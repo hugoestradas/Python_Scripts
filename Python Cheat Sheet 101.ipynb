{
 "cells": [
  {
   "cell_type": "markdown",
   "source": [
    "Check if list contains integer x"
   ],
   "metadata": {
    "collapsed": false,
    "pycharm": {
     "name": "#%% md\n"
    }
   }
  },
  {
   "cell_type": "code",
   "execution_count": 1,
   "outputs": [
    {
     "name": "stdout",
     "output_type": "stream",
     "text": [
      "True\n"
     ]
    }
   ],
   "source": [
    "l = [3, 3, 4, 5, 2, 111, 5]\n",
    "print(111 in l) # it is True"
   ],
   "metadata": {
    "collapsed": false,
    "pycharm": {
     "name": "#%%\n"
    }
   }
  },
  {
   "cell_type": "markdown",
   "source": [
    "Find duplicate number in integer list"
   ],
   "metadata": {
    "collapsed": false,
    "pycharm": {
     "name": "#%% md\n"
    }
   }
  },
  {
   "cell_type": "code",
   "execution_count": 6,
   "outputs": [
    {
     "name": "stdout",
     "output_type": "stream",
     "text": [
      "[3]\n"
     ]
    }
   ],
   "source": [
    "def find_duplicates(elements):\n",
    "    duplicates, seen = set(), set()\n",
    "    for element in elements:\n",
    "        if element in seen:\n",
    "            duplicates.add(element)\n",
    "        seen.add(element)\n",
    "    return list(duplicates)\n",
    "print(find_duplicates([3, 3, 5, 6, 7, 8]))"
   ],
   "metadata": {
    "collapsed": false,
    "pycharm": {
     "name": "#%%\n"
    }
   }
  },
  {
   "cell_type": "markdown",
   "source": [
    "Check if two string are anagrams"
   ],
   "metadata": {
    "collapsed": false,
    "pycharm": {
     "name": "#%% md\n"
    }
   }
  },
  {
   "cell_type": "code",
   "execution_count": 7,
   "outputs": [
    {
     "name": "stdout",
     "output_type": "stream",
     "text": [
      "True\n"
     ]
    }
   ],
   "source": [
    "def is_anagram (s1, s2):\n",
    "    return set (s1) == set (s2)\n",
    "print(is_anagram(\"elvis\", \"lives\")) # True"
   ],
   "metadata": {
    "collapsed": false,
    "pycharm": {
     "name": "#%%\n"
    }
   }
  },
  {
   "cell_type": "markdown",
   "source": [
    "Remove all duplicates from list"
   ],
   "metadata": {
    "collapsed": false,
    "pycharm": {
     "name": "#%% md\n"
    }
   }
  },
  {
   "cell_type": "code",
   "execution_count": 8,
   "outputs": [
    {
     "name": "stdout",
     "output_type": "stream",
     "text": [
      "[0, 1, 2, 3, 4, 5, 6, 7, 8, 9]\n"
     ]
    }
   ],
   "source": [
    "l = list(range(10)) + list(range(10))\n",
    "l = list(set(l))\n",
    "print(l)"
   ],
   "metadata": {
    "collapsed": false,
    "pycharm": {
     "name": "#%%\n"
    }
   }
  },
  {
   "cell_type": "markdown",
   "source": [
    "Find pairs of integers in list so that their sum is equal to integer x"
   ],
   "metadata": {
    "collapsed": false,
    "pycharm": {
     "name": "#%% md\n"
    }
   }
  },
  {
   "cell_type": "code",
   "execution_count": 18,
   "outputs": [
    {
     "name": "stdout",
     "output_type": "stream",
     "text": [
      "[(5, 6)]\n"
     ]
    }
   ],
   "source": [
    "def find_pairs (l, x):\n",
    "    pairs = []\n",
    "    for (i, el_1) in enumerate (l):\n",
    "        for (j, el_2) in enumerate (l[i+1:]):\n",
    "            if el_1 + el_2 == x:\n",
    "                pairs. append((el_1, el_2))\n",
    "    return pairs\n",
    "\n",
    "l = [1,1,2,5,6]\n",
    "print(find_pairs(l,11))"
   ],
   "metadata": {
    "collapsed": false,
    "pycharm": {
     "name": "#%%\n"
    }
   }
  },
  {
   "cell_type": "markdown",
   "source": [
    "Check if a string is a palindrome"
   ],
   "metadata": {
    "collapsed": false,
    "pycharm": {
     "name": "#%% md\n"
    }
   }
  },
  {
   "cell_type": "code",
   "execution_count": 19,
   "outputs": [
    {
     "name": "stdout",
     "output_type": "stream",
     "text": [
      "True\n"
     ]
    }
   ],
   "source": [
    "def is_palindrome(phrase):\n",
    "    return phrase == phrase[::-1]\n",
    "\n",
    "print(is_palindrome('lol'))"
   ],
   "metadata": {
    "collapsed": false,
    "pycharm": {
     "name": "#%%\n"
    }
   }
  },
  {
   "cell_type": "markdown",
   "source": [
    "Use list as stack, array and queue"
   ],
   "metadata": {
    "collapsed": false,
    "pycharm": {
     "name": "#%% md\n"
    }
   }
  },
  {
   "cell_type": "code",
   "execution_count": 20,
   "outputs": [
    {
     "data": {
      "text/plain": "6"
     },
     "execution_count": 20,
     "metadata": {},
     "output_type": "execute_result"
    }
   ],
   "source": [
    "# as a list\n",
    "\n",
    "l = [3, 4]\n",
    "l += [5, 6] # 1 = [3, 4, 5, 6]\n",
    "\n",
    "# as a stack\n",
    "l.append(10) # 1 = [4, 5, 6, 10]\n",
    "l.pop() # l [4, 5, 6]\n",
    "\n",
    "# and as a queue\n",
    "l.insert (0, 5) # 1 = [5, 4, 5, 6]\n",
    "l.pop() # 1 = [5, 4, 5]"
   ],
   "metadata": {
    "collapsed": false,
    "pycharm": {
     "name": "#%%\n"
    }
   }
  },
  {
   "cell_type": "markdown",
   "source": [
    "Get missing number in [1...100]"
   ],
   "metadata": {
    "collapsed": false,
    "pycharm": {
     "name": "#%% md\n"
    }
   }
  },
  {
   "cell_type": "code",
   "execution_count": 21,
   "outputs": [
    {
     "name": "stdout",
     "output_type": "stream",
     "text": [
      "{50}\n"
     ]
    }
   ],
   "source": [
    "def get_missing_number(l):\n",
    "    return set(range(l[len(l)-1])[1:]) - set(l)\n",
    "l = list(range(1,100))\n",
    "l.remove(50)\n",
    "print(get_missing_number(l))"
   ],
   "metadata": {
    "collapsed": false,
    "pycharm": {
     "name": "#%%\n"
    }
   }
  },
  {
   "cell_type": "markdown",
   "source": [
    "Compute the intersection of two lists"
   ],
   "metadata": {
    "collapsed": false,
    "pycharm": {
     "name": "#%% md\n"
    }
   }
  },
  {
   "cell_type": "code",
   "execution_count": 22,
   "outputs": [
    {
     "name": "stdout",
     "output_type": "stream",
     "text": [
      "[2, 3, 5]\n"
     ]
    }
   ],
   "source": [
    "def intersect(l1, l2):\n",
    "    r, l2_copy = [], l2[:]\n",
    "    for el in l1:\n",
    "        if el in l2_copy:\n",
    "            r.append(el)\n",
    "            l2_copy.remove(el)\n",
    "    return r\n",
    "\n",
    "print(intersect([1,2,3,4,5],[5,6,3,2]))"
   ],
   "metadata": {
    "collapsed": false,
    "pycharm": {
     "name": "#%%\n"
    }
   }
  },
  {
   "cell_type": "markdown",
   "source": [
    "Find max and min unsorted list"
   ],
   "metadata": {
    "collapsed": false,
    "pycharm": {
     "name": "#%% md\n"
    }
   }
  },
  {
   "cell_type": "code",
   "execution_count": 23,
   "outputs": [
    {
     "name": "stdout",
     "output_type": "stream",
     "text": [
      "888\n",
      "-11\n"
     ]
    }
   ],
   "source": [
    "l = [4,3,6,3,4,888,1,-11,22,3]\n",
    "print(max(l))\n",
    "print(min(l))"
   ],
   "metadata": {
    "collapsed": false,
    "pycharm": {
     "name": "#%%\n"
    }
   }
  },
  {
   "cell_type": "markdown",
   "source": [
    "Reverse string using recursion"
   ],
   "metadata": {
    "collapsed": false,
    "pycharm": {
     "name": "#%% md\n"
    }
   }
  },
  {
   "cell_type": "code",
   "execution_count": 24,
   "outputs": [
    {
     "name": "stdout",
     "output_type": "stream",
     "text": [
      "olleh\n"
     ]
    }
   ],
   "source": [
    "def reverse(s):\n",
    "    if len(s)<=1: return s\n",
    "    return reverse(s[1:])+s[0]\n",
    "print(reverse('hello'))"
   ],
   "metadata": {
    "collapsed": false,
    "pycharm": {
     "name": "#%%\n"
    }
   }
  },
  {
   "cell_type": "markdown",
   "source": [
    "Compute the first n Fibonacci numbers"
   ],
   "metadata": {
    "collapsed": false,
    "pycharm": {
     "name": "#%% md\n"
    }
   }
  },
  {
   "cell_type": "code",
   "execution_count": 26,
   "outputs": [
    {
     "name": "stdout",
     "output_type": "stream",
     "text": [
      "[5, 22, 33, 44, 55, 77, 999]\n"
     ]
    }
   ],
   "source": [
    "def qsort(L):\n",
    "    if L == []: return []\n",
    "    return qsort([x for x in L [1: ] if x< L[0]]) + L[0: 1] + \\\n",
    "           qsort([x for x in L[1:] if x>=L[0]])\n",
    "lst = [44, 33, 22, 5, 77, 55, 999]\n",
    "print (qsort(lst))\n",
    "# [5, 22, 33, 44, 55, 77, 999]"
   ],
   "metadata": {
    "collapsed": false,
    "pycharm": {
     "name": "#%%\n"
    }
   }
  },
  {
   "cell_type": "markdown",
   "source": [
    "Find all permutations of string"
   ],
   "metadata": {
    "collapsed": false,
    "pycharm": {
     "name": "#%% md\n"
    }
   }
  },
  {
   "cell_type": "code",
   "execution_count": 27,
   "outputs": [
    {
     "name": "stdout",
     "output_type": "stream",
     "text": [
      "{'nna', 'ann', 'nan'}\n"
     ]
    }
   ],
   "source": [
    "def get_permutations (w):\n",
    "    if len(w)<=1:\n",
    "        return set (w)\n",
    "    smaller = get_permutations(w[1:])\n",
    "    perms = set ()\n",
    "    for x in smaller:\n",
    "        for pos in range(0, len(x)+1):\n",
    "            perm = x[:pos] + w[0] + x[pos:]\n",
    "            perms.add(perm)\n",
    "    return perms\n",
    "print (get_permutations (\"nan\"))"
   ],
   "metadata": {
    "collapsed": false,
    "pycharm": {
     "name": "#%%\n"
    }
   }
  },
  {
   "cell_type": "code",
   "execution_count": null,
   "outputs": [],
   "source": [],
   "metadata": {
    "collapsed": false,
    "pycharm": {
     "name": "#%%\n"
    }
   }
  }
 ],
 "metadata": {
  "kernelspec": {
   "display_name": "Python 3",
   "language": "python",
   "name": "python3"
  },
  "language_info": {
   "codemirror_mode": {
    "name": "ipython",
    "version": 2
   },
   "file_extension": ".py",
   "mimetype": "text/x-python",
   "name": "python",
   "nbconvert_exporter": "python",
   "pygments_lexer": "ipython2",
   "version": "2.7.6"
  }
 },
 "nbformat": 4,
 "nbformat_minor": 0
}