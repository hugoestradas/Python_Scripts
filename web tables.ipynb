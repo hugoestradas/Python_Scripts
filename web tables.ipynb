{
 "cells": [
  {
   "cell_type": "code",
   "execution_count": 1,
   "outputs": [],
   "source": [
    "import pandas as  pd"
   ],
   "metadata": {
    "collapsed": false,
    "pycharm": {
     "name": "#%%\n"
    }
   }
  },
  {
   "cell_type": "code",
   "execution_count": 5,
   "outputs": [
    {
     "data": {
      "text/plain": "                            Region $1 per day               $1.25 per day[94]  \\\n                            Region       1990   2002   2004              1981   \n0            East Asia and Pacific      15.4%  12.3%   9.1%             77.2%   \n1          Europe and Central Asia       3.6%   1.3%   1.0%              1.9%   \n2  Latin America and the Caribbean       9.6%   9.1%   8.6%             11.9%   \n3     Middle East and North Africa       2.1%   1.7%   1.5%              9.6%   \n4                       South Asia      35.0%  33.4%  30.8%             61.1%   \n5               Sub-Saharan Africa      46.1%  42.6%  41.1%             51.5%   \n6                            World          —      —      —             52.2%   \n\n         $1.90 per day[95]                                     \n    2008              1981   1990   2000   2010   2015   2018  \n0  14.3%             80.2%  60.9%  34.8%  10.8%   2.1%   1.2%  \n1   0.5%                 —      —   7.3%   2.4%   1.5%   1.1%  \n2   6.5%             13.7%  15.5%  12.7%     6%   3.7%   3.7%  \n3   2.7%                 —   6.5%   3.5%     2%   4.3%     7%  \n4    36%               58%  49.1%      —    26%      —      —  \n5  47.5%                 —  54.9%  58.4%  46.6%  42.3%  40.4%  \n6  22.4%             42.7%  36.2%  27.8%    16%  10.1%      —  ",
      "text/html": "<div>\n<style scoped>\n    .dataframe tbody tr th:only-of-type {\n        vertical-align: middle;\n    }\n\n    .dataframe tbody tr th {\n        vertical-align: top;\n    }\n\n    .dataframe thead tr th {\n        text-align: left;\n    }\n</style>\n<table border=\"1\" class=\"dataframe\">\n  <thead>\n    <tr>\n      <th></th>\n      <th>Region</th>\n      <th colspan=\"3\" halign=\"left\">$1 per day</th>\n      <th colspan=\"2\" halign=\"left\">$1.25 per day[94]</th>\n      <th colspan=\"6\" halign=\"left\">$1.90 per day[95]</th>\n    </tr>\n    <tr>\n      <th></th>\n      <th>Region</th>\n      <th>1990</th>\n      <th>2002</th>\n      <th>2004</th>\n      <th>1981</th>\n      <th>2008</th>\n      <th>1981</th>\n      <th>1990</th>\n      <th>2000</th>\n      <th>2010</th>\n      <th>2015</th>\n      <th>2018</th>\n    </tr>\n  </thead>\n  <tbody>\n    <tr>\n      <th>0</th>\n      <td>East Asia and Pacific</td>\n      <td>15.4%</td>\n      <td>12.3%</td>\n      <td>9.1%</td>\n      <td>77.2%</td>\n      <td>14.3%</td>\n      <td>80.2%</td>\n      <td>60.9%</td>\n      <td>34.8%</td>\n      <td>10.8%</td>\n      <td>2.1%</td>\n      <td>1.2%</td>\n    </tr>\n    <tr>\n      <th>1</th>\n      <td>Europe and Central Asia</td>\n      <td>3.6%</td>\n      <td>1.3%</td>\n      <td>1.0%</td>\n      <td>1.9%</td>\n      <td>0.5%</td>\n      <td>—</td>\n      <td>—</td>\n      <td>7.3%</td>\n      <td>2.4%</td>\n      <td>1.5%</td>\n      <td>1.1%</td>\n    </tr>\n    <tr>\n      <th>2</th>\n      <td>Latin America and the Caribbean</td>\n      <td>9.6%</td>\n      <td>9.1%</td>\n      <td>8.6%</td>\n      <td>11.9%</td>\n      <td>6.5%</td>\n      <td>13.7%</td>\n      <td>15.5%</td>\n      <td>12.7%</td>\n      <td>6%</td>\n      <td>3.7%</td>\n      <td>3.7%</td>\n    </tr>\n    <tr>\n      <th>3</th>\n      <td>Middle East and North Africa</td>\n      <td>2.1%</td>\n      <td>1.7%</td>\n      <td>1.5%</td>\n      <td>9.6%</td>\n      <td>2.7%</td>\n      <td>—</td>\n      <td>6.5%</td>\n      <td>3.5%</td>\n      <td>2%</td>\n      <td>4.3%</td>\n      <td>7%</td>\n    </tr>\n    <tr>\n      <th>4</th>\n      <td>South Asia</td>\n      <td>35.0%</td>\n      <td>33.4%</td>\n      <td>30.8%</td>\n      <td>61.1%</td>\n      <td>36%</td>\n      <td>58%</td>\n      <td>49.1%</td>\n      <td>—</td>\n      <td>26%</td>\n      <td>—</td>\n      <td>—</td>\n    </tr>\n    <tr>\n      <th>5</th>\n      <td>Sub-Saharan Africa</td>\n      <td>46.1%</td>\n      <td>42.6%</td>\n      <td>41.1%</td>\n      <td>51.5%</td>\n      <td>47.5%</td>\n      <td>—</td>\n      <td>54.9%</td>\n      <td>58.4%</td>\n      <td>46.6%</td>\n      <td>42.3%</td>\n      <td>40.4%</td>\n    </tr>\n    <tr>\n      <th>6</th>\n      <td>World</td>\n      <td>—</td>\n      <td>—</td>\n      <td>—</td>\n      <td>52.2%</td>\n      <td>22.4%</td>\n      <td>42.7%</td>\n      <td>36.2%</td>\n      <td>27.8%</td>\n      <td>16%</td>\n      <td>10.1%</td>\n      <td>—</td>\n    </tr>\n  </tbody>\n</table>\n</div>"
     },
     "execution_count": 5,
     "metadata": {},
     "output_type": "execute_result"
    }
   ],
   "source": [
    "import pandas as pd\n",
    "url = (\"https://en.wikipedia.org/wiki/Poverty\")\n",
    "dfs = pd.read_html(url)\n",
    "dfs[1]"
   ],
   "metadata": {
    "collapsed": false,
    "pycharm": {
     "name": "#%%\n"
    }
   }
  },
  {
   "cell_type": "code",
   "execution_count": null,
   "outputs": [],
   "source": [],
   "metadata": {
    "collapsed": false,
    "pycharm": {
     "name": "#%%\n"
    }
   }
  }
 ],
 "metadata": {
  "kernelspec": {
   "display_name": "Python 3",
   "language": "python",
   "name": "python3"
  },
  "language_info": {
   "codemirror_mode": {
    "name": "ipython",
    "version": 2
   },
   "file_extension": ".py",
   "mimetype": "text/x-python",
   "name": "python",
   "nbconvert_exporter": "python",
   "pygments_lexer": "ipython2",
   "version": "2.7.6"
  }
 },
 "nbformat": 4,
 "nbformat_minor": 0
}
