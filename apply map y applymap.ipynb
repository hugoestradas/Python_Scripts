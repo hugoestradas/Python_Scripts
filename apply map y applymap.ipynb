{
 "cells": [
  {
   "cell_type": "code",
   "execution_count": 1,
   "outputs": [],
   "source": [
    "# Python functions can be applied with great impact in pandas to alter data in\n",
    "# your data frames.\n",
    "\n",
    "# Thankfully, you don't have to create a for-loop to iterate every row in you data\n",
    "# to do this.\n",
    "\n",
    "# In fact, it's encouraged if you can help it.\n",
    "\n",
    "# Pandas has frameworks that are simplier and more performant, known as apply, map\n",
    "# and applymap.\n",
    "\n",
    "# Let's dig in.\n",
    "\n",
    "# Let's start with a dataframe, including revenue and cost data for certain regions,\n",
    "# teams, and squad."
   ],
   "metadata": {
    "collapsed": false,
    "pycharm": {
     "name": "#%%\n"
    }
   }
  },
  {
   "cell_type": "code",
   "execution_count": 2,
   "outputs": [],
   "source": [
    "import pandas as pd"
   ],
   "metadata": {
    "collapsed": false,
    "pycharm": {
     "name": "#%%\n"
    }
   }
  },
  {
   "cell_type": "code",
   "execution_count": 3,
   "outputs": [],
   "source": [
    "df = pd.DataFrame({\n",
    "    \"Region\":['Norte','Occidente','Oriente','Sur','Norte','Occidente','Oriente','Sur'],\n",
    "    \"Departamento\":['El Petén','Chimaltenango','Zacapa','Escuintla','El Petén','Chimaltenango','Zacapa','Escuintla'],\n",
    "    \"Equipo\":['A','B','C','D','E','F','G','H'],\n",
    "    \"Ingresos\":[7500,5500,2750,6400,2300,3750,1900,575],\n",
    "    \"Costos\":[5200,5100,4400,5300,1250,1300,2100,50]})"
   ],
   "metadata": {
    "collapsed": false,
    "pycharm": {
     "name": "#%%\n"
    }
   }
  },
  {
   "cell_type": "code",
   "execution_count": 4,
   "outputs": [
    {
     "data": {
      "text/plain": "      Region   Departamento Equipo  Ingresos  Costos\n0      Norte       El Petén      A      7500    5200\n1  Occidente  Chimaltenango      B      5500    5100\n2    Oriente         Zacapa      C      2750    4400\n3        Sur      Escuintla      D      6400    5300\n4      Norte       El Petén      E      2300    1250\n5  Occidente  Chimaltenango      F      3750    1300\n6    Oriente         Zacapa      G      1900    2100\n7        Sur      Escuintla      H       575      50",
      "text/html": "<div>\n<style scoped>\n    .dataframe tbody tr th:only-of-type {\n        vertical-align: middle;\n    }\n\n    .dataframe tbody tr th {\n        vertical-align: top;\n    }\n\n    .dataframe thead th {\n        text-align: right;\n    }\n</style>\n<table border=\"1\" class=\"dataframe\">\n  <thead>\n    <tr style=\"text-align: right;\">\n      <th></th>\n      <th>Region</th>\n      <th>Departamento</th>\n      <th>Equipo</th>\n      <th>Ingresos</th>\n      <th>Costos</th>\n    </tr>\n  </thead>\n  <tbody>\n    <tr>\n      <th>0</th>\n      <td>Norte</td>\n      <td>El Petén</td>\n      <td>A</td>\n      <td>7500</td>\n      <td>5200</td>\n    </tr>\n    <tr>\n      <th>1</th>\n      <td>Occidente</td>\n      <td>Chimaltenango</td>\n      <td>B</td>\n      <td>5500</td>\n      <td>5100</td>\n    </tr>\n    <tr>\n      <th>2</th>\n      <td>Oriente</td>\n      <td>Zacapa</td>\n      <td>C</td>\n      <td>2750</td>\n      <td>4400</td>\n    </tr>\n    <tr>\n      <th>3</th>\n      <td>Sur</td>\n      <td>Escuintla</td>\n      <td>D</td>\n      <td>6400</td>\n      <td>5300</td>\n    </tr>\n    <tr>\n      <th>4</th>\n      <td>Norte</td>\n      <td>El Petén</td>\n      <td>E</td>\n      <td>2300</td>\n      <td>1250</td>\n    </tr>\n    <tr>\n      <th>5</th>\n      <td>Occidente</td>\n      <td>Chimaltenango</td>\n      <td>F</td>\n      <td>3750</td>\n      <td>1300</td>\n    </tr>\n    <tr>\n      <th>6</th>\n      <td>Oriente</td>\n      <td>Zacapa</td>\n      <td>G</td>\n      <td>1900</td>\n      <td>2100</td>\n    </tr>\n    <tr>\n      <th>7</th>\n      <td>Sur</td>\n      <td>Escuintla</td>\n      <td>H</td>\n      <td>575</td>\n      <td>50</td>\n    </tr>\n  </tbody>\n</table>\n</div>"
     },
     "execution_count": 4,
     "metadata": {},
     "output_type": "execute_result"
    }
   ],
   "source": [
    "df"
   ],
   "metadata": {
    "collapsed": false,
    "pycharm": {
     "name": "#%%\n"
    }
   }
  },
  {
   "cell_type": "code",
   "execution_count": 5,
   "outputs": [],
   "source": [
    "# digamos que se necesita determinar si cada equipo generó ganancias o pérdidas\n",
    "\n",
    "# en otras palabras, si los ingresos superan los costos\n",
    "\n",
    "# este es un ejemplo práctico para utilizar 'apply'\n",
    "\n",
    "# 'apply' nos permite aprovechar funciones para modificar valores a lo largo de un dataframe\n",
    "\n",
    "# se puede ahorrar tiempo utilizando una función lambda\n",
    "\n",
    "# esto nos permite crear una función en la sentencia 'apply', sin tener que tener dicha función escrita previamente\n",
    "\n",
    "# esta lambda va a retornar ganancia, si los ingresos superan los costos, y retornará perdidad en caso contrario\n",
    "\n",
    "# la aplicación de esta función, retornará una serie que se utilizará para llenar la columna ganancia en el dataframe"
   ],
   "metadata": {
    "collapsed": false,
    "pycharm": {
     "name": "#%%\n"
    }
   }
  },
  {
   "cell_type": "code",
   "execution_count": 6,
   "outputs": [
    {
     "data": {
      "text/plain": "      Region   Departamento Equipo  Ingresos  Costos  Ganancia\n0      Norte       El Petén      A      7500    5200  Ganancia\n1  Occidente  Chimaltenango      B      5500    5100  Ganancia\n2    Oriente         Zacapa      C      2750    4400   Pérdida\n3        Sur      Escuintla      D      6400    5300  Ganancia\n4      Norte       El Petén      E      2300    1250  Ganancia\n5  Occidente  Chimaltenango      F      3750    1300  Ganancia\n6    Oriente         Zacapa      G      1900    2100   Pérdida\n7        Sur      Escuintla      H       575      50  Ganancia",
      "text/html": "<div>\n<style scoped>\n    .dataframe tbody tr th:only-of-type {\n        vertical-align: middle;\n    }\n\n    .dataframe tbody tr th {\n        vertical-align: top;\n    }\n\n    .dataframe thead th {\n        text-align: right;\n    }\n</style>\n<table border=\"1\" class=\"dataframe\">\n  <thead>\n    <tr style=\"text-align: right;\">\n      <th></th>\n      <th>Region</th>\n      <th>Departamento</th>\n      <th>Equipo</th>\n      <th>Ingresos</th>\n      <th>Costos</th>\n      <th>Ganancia</th>\n    </tr>\n  </thead>\n  <tbody>\n    <tr>\n      <th>0</th>\n      <td>Norte</td>\n      <td>El Petén</td>\n      <td>A</td>\n      <td>7500</td>\n      <td>5200</td>\n      <td>Ganancia</td>\n    </tr>\n    <tr>\n      <th>1</th>\n      <td>Occidente</td>\n      <td>Chimaltenango</td>\n      <td>B</td>\n      <td>5500</td>\n      <td>5100</td>\n      <td>Ganancia</td>\n    </tr>\n    <tr>\n      <th>2</th>\n      <td>Oriente</td>\n      <td>Zacapa</td>\n      <td>C</td>\n      <td>2750</td>\n      <td>4400</td>\n      <td>Pérdida</td>\n    </tr>\n    <tr>\n      <th>3</th>\n      <td>Sur</td>\n      <td>Escuintla</td>\n      <td>D</td>\n      <td>6400</td>\n      <td>5300</td>\n      <td>Ganancia</td>\n    </tr>\n    <tr>\n      <th>4</th>\n      <td>Norte</td>\n      <td>El Petén</td>\n      <td>E</td>\n      <td>2300</td>\n      <td>1250</td>\n      <td>Ganancia</td>\n    </tr>\n    <tr>\n      <th>5</th>\n      <td>Occidente</td>\n      <td>Chimaltenango</td>\n      <td>F</td>\n      <td>3750</td>\n      <td>1300</td>\n      <td>Ganancia</td>\n    </tr>\n    <tr>\n      <th>6</th>\n      <td>Oriente</td>\n      <td>Zacapa</td>\n      <td>G</td>\n      <td>1900</td>\n      <td>2100</td>\n      <td>Pérdida</td>\n    </tr>\n    <tr>\n      <th>7</th>\n      <td>Sur</td>\n      <td>Escuintla</td>\n      <td>H</td>\n      <td>575</td>\n      <td>50</td>\n      <td>Ganancia</td>\n    </tr>\n  </tbody>\n</table>\n</div>"
     },
     "execution_count": 6,
     "metadata": {},
     "output_type": "execute_result"
    }
   ],
   "source": [
    "df['Ganancia'] = df.apply(lambda x: 'Ganancia' if x['Ingresos'] > x['Costos'] else 'Pérdida',axis=1)\n",
    "df"
   ],
   "metadata": {
    "collapsed": false,
    "pycharm": {
     "name": "#%%\n"
    }
   }
  },
  {
   "cell_type": "code",
   "execution_count": 7,
   "outputs": [],
   "source": [
    "# ahora les quiero mostrar que hace map\n",
    "\n",
    "# y se usa para modificar valores en una serie, utilizando una funcion, serie o diccionario\n",
    "\n",
    "# aquí, les daré un ejemplo sobre como podemos crear un diccionario que sirva para asignarle un color\n",
    "# por departamento a cada equipo"
   ],
   "metadata": {
    "collapsed": false,
    "pycharm": {
     "name": "#%%\n"
    }
   }
  },
  {
   "cell_type": "code",
   "execution_count": 6,
   "outputs": [],
   "source": [
    "team_map = {\"El Petén\":\"Green\", \"Chimaltenango\":\"Blue\", 'Zacapa':'Yellow', 'Escuintla': 'Red'}"
   ],
   "metadata": {
    "collapsed": false,
    "pycharm": {
     "name": "#%%\n"
    }
   }
  },
  {
   "cell_type": "code",
   "execution_count": null,
   "outputs": [],
   "source": [
    "# ahora, puedo aplicar la función 'map' para aplicar los valores correspondientes ,en una nueva columna"
   ],
   "metadata": {
    "collapsed": false,
    "pycharm": {
     "name": "#%%\n"
    }
   }
  },
  {
   "cell_type": "code",
   "execution_count": 7,
   "outputs": [
    {
     "data": {
      "text/plain": "      Region   Departamento Equipo  Ingresos  Costos  Ganancia Equipo Color\n0      Norte       El Petén      A      7500    5200  Ganancia        Green\n1  Occidente  Chimaltenango      B      5500    5100  Ganancia         Blue\n2    Oriente         Zacapa      C      2750    4400   Pérdida       Yellow\n3        Sur      Escuintla      D      6400    5300  Ganancia          Red\n4      Norte       El Petén      E      2300    1250  Ganancia        Green\n5  Occidente  Chimaltenango      F      3750    1300  Ganancia         Blue\n6    Oriente         Zacapa      G      1900    2100   Pérdida       Yellow\n7        Sur      Escuintla      H       575      50  Ganancia          Red",
      "text/html": "<div>\n<style scoped>\n    .dataframe tbody tr th:only-of-type {\n        vertical-align: middle;\n    }\n\n    .dataframe tbody tr th {\n        vertical-align: top;\n    }\n\n    .dataframe thead th {\n        text-align: right;\n    }\n</style>\n<table border=\"1\" class=\"dataframe\">\n  <thead>\n    <tr style=\"text-align: right;\">\n      <th></th>\n      <th>Region</th>\n      <th>Departamento</th>\n      <th>Equipo</th>\n      <th>Ingresos</th>\n      <th>Costos</th>\n      <th>Ganancia</th>\n      <th>Equipo Color</th>\n    </tr>\n  </thead>\n  <tbody>\n    <tr>\n      <th>0</th>\n      <td>Norte</td>\n      <td>El Petén</td>\n      <td>A</td>\n      <td>7500</td>\n      <td>5200</td>\n      <td>Ganancia</td>\n      <td>Green</td>\n    </tr>\n    <tr>\n      <th>1</th>\n      <td>Occidente</td>\n      <td>Chimaltenango</td>\n      <td>B</td>\n      <td>5500</td>\n      <td>5100</td>\n      <td>Ganancia</td>\n      <td>Blue</td>\n    </tr>\n    <tr>\n      <th>2</th>\n      <td>Oriente</td>\n      <td>Zacapa</td>\n      <td>C</td>\n      <td>2750</td>\n      <td>4400</td>\n      <td>Pérdida</td>\n      <td>Yellow</td>\n    </tr>\n    <tr>\n      <th>3</th>\n      <td>Sur</td>\n      <td>Escuintla</td>\n      <td>D</td>\n      <td>6400</td>\n      <td>5300</td>\n      <td>Ganancia</td>\n      <td>Red</td>\n    </tr>\n    <tr>\n      <th>4</th>\n      <td>Norte</td>\n      <td>El Petén</td>\n      <td>E</td>\n      <td>2300</td>\n      <td>1250</td>\n      <td>Ganancia</td>\n      <td>Green</td>\n    </tr>\n    <tr>\n      <th>5</th>\n      <td>Occidente</td>\n      <td>Chimaltenango</td>\n      <td>F</td>\n      <td>3750</td>\n      <td>1300</td>\n      <td>Ganancia</td>\n      <td>Blue</td>\n    </tr>\n    <tr>\n      <th>6</th>\n      <td>Oriente</td>\n      <td>Zacapa</td>\n      <td>G</td>\n      <td>1900</td>\n      <td>2100</td>\n      <td>Pérdida</td>\n      <td>Yellow</td>\n    </tr>\n    <tr>\n      <th>7</th>\n      <td>Sur</td>\n      <td>Escuintla</td>\n      <td>H</td>\n      <td>575</td>\n      <td>50</td>\n      <td>Ganancia</td>\n      <td>Red</td>\n    </tr>\n  </tbody>\n</table>\n</div>"
     },
     "execution_count": 7,
     "metadata": {},
     "output_type": "execute_result"
    }
   ],
   "source": [
    "df['Equipo Color'] = df['Departamento'].map(team_map)\n",
    "df"
   ],
   "metadata": {
    "collapsed": false,
    "pycharm": {
     "name": "#%%\n"
    }
   }
  },
  {
   "cell_type": "code",
   "execution_count": 9,
   "outputs": [],
   "source": [
    "# la función 'applymap' que también funciona para modificar información en el dataframe\n",
    "\n",
    "# applymap aplica una función a cada elemento del dataframe\n",
    "\n",
    "# para este ejemplo voy a crear una función lambda que retorne la longitud de cada elemento en el dataframe"
   ],
   "metadata": {
    "collapsed": false,
    "pycharm": {
     "name": "#%%\n"
    }
   }
  },
  {
   "cell_type": "code",
   "execution_count": 10,
   "outputs": [
    {
     "data": {
      "text/plain": "   Region  Departamento  Equipo  Ingresos  Costos  Ganancia\n0       5             8       1         4       4         8\n1       9            13       1         4       4         8\n2       7             6       1         4       4         7\n3       3             9       1         4       4         8\n4       5             8       1         4       4         8\n5       9            13       1         4       4         8\n6       7             6       1         4       4         7\n7       3             9       1         3       2         8",
      "text/html": "<div>\n<style scoped>\n    .dataframe tbody tr th:only-of-type {\n        vertical-align: middle;\n    }\n\n    .dataframe tbody tr th {\n        vertical-align: top;\n    }\n\n    .dataframe thead th {\n        text-align: right;\n    }\n</style>\n<table border=\"1\" class=\"dataframe\">\n  <thead>\n    <tr style=\"text-align: right;\">\n      <th></th>\n      <th>Region</th>\n      <th>Departamento</th>\n      <th>Equipo</th>\n      <th>Ingresos</th>\n      <th>Costos</th>\n      <th>Ganancia</th>\n    </tr>\n  </thead>\n  <tbody>\n    <tr>\n      <th>0</th>\n      <td>5</td>\n      <td>8</td>\n      <td>1</td>\n      <td>4</td>\n      <td>4</td>\n      <td>8</td>\n    </tr>\n    <tr>\n      <th>1</th>\n      <td>9</td>\n      <td>13</td>\n      <td>1</td>\n      <td>4</td>\n      <td>4</td>\n      <td>8</td>\n    </tr>\n    <tr>\n      <th>2</th>\n      <td>7</td>\n      <td>6</td>\n      <td>1</td>\n      <td>4</td>\n      <td>4</td>\n      <td>7</td>\n    </tr>\n    <tr>\n      <th>3</th>\n      <td>3</td>\n      <td>9</td>\n      <td>1</td>\n      <td>4</td>\n      <td>4</td>\n      <td>8</td>\n    </tr>\n    <tr>\n      <th>4</th>\n      <td>5</td>\n      <td>8</td>\n      <td>1</td>\n      <td>4</td>\n      <td>4</td>\n      <td>8</td>\n    </tr>\n    <tr>\n      <th>5</th>\n      <td>9</td>\n      <td>13</td>\n      <td>1</td>\n      <td>4</td>\n      <td>4</td>\n      <td>8</td>\n    </tr>\n    <tr>\n      <th>6</th>\n      <td>7</td>\n      <td>6</td>\n      <td>1</td>\n      <td>4</td>\n      <td>4</td>\n      <td>7</td>\n    </tr>\n    <tr>\n      <th>7</th>\n      <td>3</td>\n      <td>9</td>\n      <td>1</td>\n      <td>3</td>\n      <td>2</td>\n      <td>8</td>\n    </tr>\n  </tbody>\n</table>\n</div>"
     },
     "execution_count": 10,
     "metadata": {},
     "output_type": "execute_result"
    }
   ],
   "source": [
    "df.applymap(lambda x: len(str(x)))"
   ],
   "metadata": {
    "collapsed": false,
    "pycharm": {
     "name": "#%%\n"
    }
   }
  },
  {
   "cell_type": "code",
   "execution_count": null,
   "outputs": [],
   "source": [
    "# ahora bien, para los amantes de los ciclos, aclaremos que siempre habrá sitauciones en las cuales es más sencillo\n",
    "# formular nuestra lógica en un ciclo, en lugar de una función lambda\n",
    "\n",
    "# acá les traigo un ejemplo, voy a calcular el ingreso de cada equipo, compartido por región, como un porcentaje\n",
    "\n",
    "# para comenzar, voy a crear una lista vacía que luego voy a llenar con los valores correspondientes a cada equipo por región,\n",
    "# dentro de cada iteración del ciclo\n",
    "\n",
    "# para el ciclo for, recorro el dataframe comenzando con el rango 0, hasta la longitud del tamaño del dataframe\n",
    "\n",
    "# y en la variable rev, hago el calculo, para esa región por equipo en específico, dividad por la suma de los ingresos obtenidos del\n",
    "# dataframe, donde la requión sea igual a la de la iteración del ciclo\n",
    "\n",
    "# finalmente, añado este valor antes de continuar con el ciclo"
   ],
   "metadata": {
    "collapsed": false,
    "pycharm": {
     "name": "#%%\n"
    }
   }
  },
  {
   "cell_type": "code",
   "execution_count": 8,
   "outputs": [],
   "source": [
    "new_col = []\n",
    "\n",
    "for i in range(0,len(df)):\n",
    "    rev = df['Ingresos'][i] / df[df['Region'] == df.loc[i,'Region']]['Ingresos'].sum()\n",
    "    new_col.append(rev)"
   ],
   "metadata": {
    "collapsed": false,
    "pycharm": {
     "name": "#%%\n"
    }
   }
  },
  {
   "cell_type": "code",
   "execution_count": null,
   "outputs": [],
   "source": [
    "# A continuación, establecemos una nueva columna de reparto de ingresos por región, asignándole el valor a la lista que cree en el ciclo\n",
    "# y los ordeno por región en el dataframe"
   ],
   "metadata": {
    "collapsed": false,
    "pycharm": {
     "name": "#%%\n"
    }
   }
  },
  {
   "cell_type": "code",
   "execution_count": 9,
   "outputs": [
    {
     "data": {
      "text/plain": "      Region   Departamento Equipo  Ingresos  Costos  Ganancia Equipo Color  \\\n0      Norte       El Petén      A      7500    5200  Ganancia        Green   \n4      Norte       El Petén      E      2300    1250  Ganancia        Green   \n1  Occidente  Chimaltenango      B      5500    5100  Ganancia         Blue   \n5  Occidente  Chimaltenango      F      3750    1300  Ganancia         Blue   \n2    Oriente         Zacapa      C      2750    4400   Pérdida       Yellow   \n6    Oriente         Zacapa      G      1900    2100   Pérdida       Yellow   \n3        Sur      Escuintla      D      6400    5300  Ganancia          Red   \n7        Sur      Escuintla      H       575      50  Ganancia          Red   \n\n   Ingresos Compartidos por Region  \n0                         0.765306  \n4                         0.234694  \n1                         0.594595  \n5                         0.405405  \n2                         0.591398  \n6                         0.408602  \n3                         0.917563  \n7                         0.082437  ",
      "text/html": "<div>\n<style scoped>\n    .dataframe tbody tr th:only-of-type {\n        vertical-align: middle;\n    }\n\n    .dataframe tbody tr th {\n        vertical-align: top;\n    }\n\n    .dataframe thead th {\n        text-align: right;\n    }\n</style>\n<table border=\"1\" class=\"dataframe\">\n  <thead>\n    <tr style=\"text-align: right;\">\n      <th></th>\n      <th>Region</th>\n      <th>Departamento</th>\n      <th>Equipo</th>\n      <th>Ingresos</th>\n      <th>Costos</th>\n      <th>Ganancia</th>\n      <th>Equipo Color</th>\n      <th>Ingresos Compartidos por Region</th>\n    </tr>\n  </thead>\n  <tbody>\n    <tr>\n      <th>0</th>\n      <td>Norte</td>\n      <td>El Petén</td>\n      <td>A</td>\n      <td>7500</td>\n      <td>5200</td>\n      <td>Ganancia</td>\n      <td>Green</td>\n      <td>0.765306</td>\n    </tr>\n    <tr>\n      <th>4</th>\n      <td>Norte</td>\n      <td>El Petén</td>\n      <td>E</td>\n      <td>2300</td>\n      <td>1250</td>\n      <td>Ganancia</td>\n      <td>Green</td>\n      <td>0.234694</td>\n    </tr>\n    <tr>\n      <th>1</th>\n      <td>Occidente</td>\n      <td>Chimaltenango</td>\n      <td>B</td>\n      <td>5500</td>\n      <td>5100</td>\n      <td>Ganancia</td>\n      <td>Blue</td>\n      <td>0.594595</td>\n    </tr>\n    <tr>\n      <th>5</th>\n      <td>Occidente</td>\n      <td>Chimaltenango</td>\n      <td>F</td>\n      <td>3750</td>\n      <td>1300</td>\n      <td>Ganancia</td>\n      <td>Blue</td>\n      <td>0.405405</td>\n    </tr>\n    <tr>\n      <th>2</th>\n      <td>Oriente</td>\n      <td>Zacapa</td>\n      <td>C</td>\n      <td>2750</td>\n      <td>4400</td>\n      <td>Pérdida</td>\n      <td>Yellow</td>\n      <td>0.591398</td>\n    </tr>\n    <tr>\n      <th>6</th>\n      <td>Oriente</td>\n      <td>Zacapa</td>\n      <td>G</td>\n      <td>1900</td>\n      <td>2100</td>\n      <td>Pérdida</td>\n      <td>Yellow</td>\n      <td>0.408602</td>\n    </tr>\n    <tr>\n      <th>3</th>\n      <td>Sur</td>\n      <td>Escuintla</td>\n      <td>D</td>\n      <td>6400</td>\n      <td>5300</td>\n      <td>Ganancia</td>\n      <td>Red</td>\n      <td>0.917563</td>\n    </tr>\n    <tr>\n      <th>7</th>\n      <td>Sur</td>\n      <td>Escuintla</td>\n      <td>H</td>\n      <td>575</td>\n      <td>50</td>\n      <td>Ganancia</td>\n      <td>Red</td>\n      <td>0.082437</td>\n    </tr>\n  </tbody>\n</table>\n</div>"
     },
     "execution_count": 9,
     "metadata": {},
     "output_type": "execute_result"
    }
   ],
   "source": [
    "df['Ingresos Compartidos por Region'] = new_col\n",
    "df.sort_values(by='Region')"
   ],
   "metadata": {
    "collapsed": false,
    "pycharm": {
     "name": "#%%\n"
    }
   }
  },
  {
   "cell_type": "code",
   "execution_count": 9,
   "outputs": [],
   "source": [],
   "metadata": {
    "collapsed": false,
    "pycharm": {
     "name": "#%%\n"
    }
   }
  }
 ],
 "metadata": {
  "kernelspec": {
   "display_name": "Python 3",
   "language": "python",
   "name": "python3"
  },
  "language_info": {
   "codemirror_mode": {
    "name": "ipython",
    "version": 2
   },
   "file_extension": ".py",
   "mimetype": "text/x-python",
   "name": "python",
   "nbconvert_exporter": "python",
   "pygments_lexer": "ipython2",
   "version": "2.7.6"
  }
 },
 "nbformat": 4,
 "nbformat_minor": 0
}