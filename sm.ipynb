{
 "cells": [
  {
   "cell_type": "code",
   "execution_count": 2,
   "metadata": {
    "collapsed": true
   },
   "outputs": [
    {
     "name": "stdout",
     "output_type": "stream",
     "text": [
      "Collecting skimpy\r\n",
      "  Downloading skimpy-0.0.8-py3-none-any.whl (14 kB)\r\n",
      "Requirement already satisfied: numpy<2.0.0,>=1.22.2 in /Users/hugoestradasmacstudio/miniforge3/envs/py36/lib/python3.8/site-packages (from skimpy) (1.23.4)\r\n",
      "Requirement already satisfied: jupyter<2.0.0,>=1.0.0 in /Users/hugoestradasmacstudio/miniforge3/envs/py36/lib/python3.8/site-packages (from skimpy) (1.0.0)\r\n",
      "Requirement already satisfied: ipykernel<7.0.0,>=6.7.0 in /Users/hugoestradasmacstudio/miniforge3/envs/py36/lib/python3.8/site-packages (from skimpy) (6.17.1)\r\n",
      "Requirement already satisfied: pandas<2.0.0,>=1.3.2 in /Users/hugoestradasmacstudio/miniforge3/envs/py36/lib/python3.8/site-packages (from skimpy) (1.5.1)\r\n",
      "Collecting typeguard<3.0.0,>=2.12.1\r\n",
      "  Downloading typeguard-2.13.3-py3-none-any.whl (17 kB)\r\n",
      "Collecting rich<13.0,>=10.9\r\n",
      "  Downloading rich-12.6.0-py3-none-any.whl (237 kB)\r\n",
      "\u001B[2K     \u001B[90m━━━━━━━━━━━━━━━━━━━━━━━━━━━━━━━━━━━━━━━\u001B[0m \u001B[32m237.5/237.5 kB\u001B[0m \u001B[31m1.7 MB/s\u001B[0m eta \u001B[36m0:00:00\u001B[0ma \u001B[36m0:00:01\u001B[0m\r\n",
      "\u001B[?25hRequirement already satisfied: Pygments<3.0.0,>=2.10.0 in /Users/hugoestradasmacstudio/miniforge3/envs/py36/lib/python3.8/site-packages (from skimpy) (2.13.0)\r\n",
      "Requirement already satisfied: click<9.0.0,>=8.1.3 in /Users/hugoestradasmacstudio/miniforge3/envs/py36/lib/python3.8/site-packages (from skimpy) (8.1.3)\r\n",
      "Requirement already satisfied: packaging in /Users/hugoestradasmacstudio/miniforge3/envs/py36/lib/python3.8/site-packages (from ipykernel<7.0.0,>=6.7.0->skimpy) (21.3)\r\n",
      "Requirement already satisfied: debugpy>=1.0 in /Users/hugoestradasmacstudio/miniforge3/envs/py36/lib/python3.8/site-packages (from ipykernel<7.0.0,>=6.7.0->skimpy) (1.6.3)\r\n",
      "Requirement already satisfied: jupyter-client>=6.1.12 in /Users/hugoestradasmacstudio/miniforge3/envs/py36/lib/python3.8/site-packages (from ipykernel<7.0.0,>=6.7.0->skimpy) (7.4.5)\r\n",
      "Requirement already satisfied: appnope in /Users/hugoestradasmacstudio/miniforge3/envs/py36/lib/python3.8/site-packages (from ipykernel<7.0.0,>=6.7.0->skimpy) (0.1.3)\r\n",
      "Requirement already satisfied: nest-asyncio in /Users/hugoestradasmacstudio/miniforge3/envs/py36/lib/python3.8/site-packages (from ipykernel<7.0.0,>=6.7.0->skimpy) (1.5.6)\r\n",
      "Requirement already satisfied: traitlets>=5.1.0 in /Users/hugoestradasmacstudio/miniforge3/envs/py36/lib/python3.8/site-packages (from ipykernel<7.0.0,>=6.7.0->skimpy) (5.5.0)\r\n",
      "Requirement already satisfied: pyzmq>=17 in /Users/hugoestradasmacstudio/miniforge3/envs/py36/lib/python3.8/site-packages (from ipykernel<7.0.0,>=6.7.0->skimpy) (24.0.1)\r\n",
      "Requirement already satisfied: ipython>=7.23.1 in /Users/hugoestradasmacstudio/miniforge3/envs/py36/lib/python3.8/site-packages (from ipykernel<7.0.0,>=6.7.0->skimpy) (8.6.0)\r\n",
      "Requirement already satisfied: psutil in /Users/hugoestradasmacstudio/miniforge3/envs/py36/lib/python3.8/site-packages (from ipykernel<7.0.0,>=6.7.0->skimpy) (5.9.4)\r\n",
      "Requirement already satisfied: tornado>=6.1 in /Users/hugoestradasmacstudio/miniforge3/envs/py36/lib/python3.8/site-packages (from ipykernel<7.0.0,>=6.7.0->skimpy) (6.2)\r\n",
      "Requirement already satisfied: matplotlib-inline>=0.1 in /Users/hugoestradasmacstudio/miniforge3/envs/py36/lib/python3.8/site-packages (from ipykernel<7.0.0,>=6.7.0->skimpy) (0.1.6)\r\n",
      "Requirement already satisfied: nbconvert in /Users/hugoestradasmacstudio/miniforge3/envs/py36/lib/python3.8/site-packages (from jupyter<2.0.0,>=1.0.0->skimpy) (7.2.4)\r\n",
      "Requirement already satisfied: notebook in /Users/hugoestradasmacstudio/miniforge3/envs/py36/lib/python3.8/site-packages (from jupyter<2.0.0,>=1.0.0->skimpy) (6.5.2)\r\n",
      "Requirement already satisfied: ipywidgets in /Users/hugoestradasmacstudio/miniforge3/envs/py36/lib/python3.8/site-packages (from jupyter<2.0.0,>=1.0.0->skimpy) (8.0.2)\r\n",
      "Requirement already satisfied: jupyter-console in /Users/hugoestradasmacstudio/miniforge3/envs/py36/lib/python3.8/site-packages (from jupyter<2.0.0,>=1.0.0->skimpy) (6.4.4)\r\n",
      "Requirement already satisfied: qtconsole in /Users/hugoestradasmacstudio/miniforge3/envs/py36/lib/python3.8/site-packages (from jupyter<2.0.0,>=1.0.0->skimpy) (5.4.0)\r\n",
      "Requirement already satisfied: python-dateutil>=2.8.1 in /Users/hugoestradasmacstudio/miniforge3/envs/py36/lib/python3.8/site-packages (from pandas<2.0.0,>=1.3.2->skimpy) (2.8.2)\r\n",
      "Requirement already satisfied: pytz>=2020.1 in /Users/hugoestradasmacstudio/miniforge3/envs/py36/lib/python3.8/site-packages (from pandas<2.0.0,>=1.3.2->skimpy) (2022.6)\r\n",
      "Requirement already satisfied: typing-extensions<5.0,>=4.0.0 in /Users/hugoestradasmacstudio/miniforge3/envs/py36/lib/python3.8/site-packages (from rich<13.0,>=10.9->skimpy) (4.4.0)\r\n",
      "Collecting commonmark<0.10.0,>=0.9.0\r\n",
      "  Downloading commonmark-0.9.1-py2.py3-none-any.whl (51 kB)\r\n",
      "\u001B[2K     \u001B[90m━━━━━━━━━━━━━━━━━━━━━━━━━━━━━━━━━━━━━━━━\u001B[0m \u001B[32m51.1/51.1 kB\u001B[0m \u001B[31m5.2 MB/s\u001B[0m eta \u001B[36m0:00:00\u001B[0m\r\n",
      "\u001B[?25hRequirement already satisfied: prompt-toolkit<3.1.0,>3.0.1 in /Users/hugoestradasmacstudio/miniforge3/envs/py36/lib/python3.8/site-packages (from ipython>=7.23.1->ipykernel<7.0.0,>=6.7.0->skimpy) (3.0.32)\r\n",
      "Requirement already satisfied: stack-data in /Users/hugoestradasmacstudio/miniforge3/envs/py36/lib/python3.8/site-packages (from ipython>=7.23.1->ipykernel<7.0.0,>=6.7.0->skimpy) (0.6.1)\r\n",
      "Requirement already satisfied: jedi>=0.16 in /Users/hugoestradasmacstudio/miniforge3/envs/py36/lib/python3.8/site-packages (from ipython>=7.23.1->ipykernel<7.0.0,>=6.7.0->skimpy) (0.18.1)\r\n",
      "Requirement already satisfied: pexpect>4.3 in /Users/hugoestradasmacstudio/miniforge3/envs/py36/lib/python3.8/site-packages (from ipython>=7.23.1->ipykernel<7.0.0,>=6.7.0->skimpy) (4.8.0)\r\n",
      "Requirement already satisfied: backcall in /Users/hugoestradasmacstudio/miniforge3/envs/py36/lib/python3.8/site-packages (from ipython>=7.23.1->ipykernel<7.0.0,>=6.7.0->skimpy) (0.2.0)\r\n",
      "Requirement already satisfied: pickleshare in /Users/hugoestradasmacstudio/miniforge3/envs/py36/lib/python3.8/site-packages (from ipython>=7.23.1->ipykernel<7.0.0,>=6.7.0->skimpy) (0.7.5)\r\n",
      "Requirement already satisfied: decorator in /Users/hugoestradasmacstudio/miniforge3/envs/py36/lib/python3.8/site-packages (from ipython>=7.23.1->ipykernel<7.0.0,>=6.7.0->skimpy) (5.1.1)\r\n",
      "Requirement already satisfied: entrypoints in /Users/hugoestradasmacstudio/miniforge3/envs/py36/lib/python3.8/site-packages (from jupyter-client>=6.1.12->ipykernel<7.0.0,>=6.7.0->skimpy) (0.4)\r\n",
      "Requirement already satisfied: jupyter-core>=4.9.2 in /Users/hugoestradasmacstudio/miniforge3/envs/py36/lib/python3.8/site-packages (from jupyter-client>=6.1.12->ipykernel<7.0.0,>=6.7.0->skimpy) (5.0.0)\r\n",
      "Requirement already satisfied: six>=1.5 in /Users/hugoestradasmacstudio/miniforge3/envs/py36/lib/python3.8/site-packages (from python-dateutil>=2.8.1->pandas<2.0.0,>=1.3.2->skimpy) (1.16.0)\r\n",
      "Requirement already satisfied: jupyterlab-widgets~=3.0 in /Users/hugoestradasmacstudio/miniforge3/envs/py36/lib/python3.8/site-packages (from ipywidgets->jupyter<2.0.0,>=1.0.0->skimpy) (3.0.3)\r\n",
      "Requirement already satisfied: widgetsnbextension~=4.0 in /Users/hugoestradasmacstudio/miniforge3/envs/py36/lib/python3.8/site-packages (from ipywidgets->jupyter<2.0.0,>=1.0.0->skimpy) (4.0.3)\r\n",
      "Requirement already satisfied: nbclient>=0.5.0 in /Users/hugoestradasmacstudio/miniforge3/envs/py36/lib/python3.8/site-packages (from nbconvert->jupyter<2.0.0,>=1.0.0->skimpy) (0.7.0)\r\n",
      "Requirement already satisfied: importlib-metadata>=3.6 in /Users/hugoestradasmacstudio/miniforge3/envs/py36/lib/python3.8/site-packages (from nbconvert->jupyter<2.0.0,>=1.0.0->skimpy) (5.0.0)\r\n",
      "Requirement already satisfied: mistune<3,>=2.0.3 in /Users/hugoestradasmacstudio/miniforge3/envs/py36/lib/python3.8/site-packages (from nbconvert->jupyter<2.0.0,>=1.0.0->skimpy) (2.0.4)\r\n",
      "Requirement already satisfied: nbformat>=5.1 in /Users/hugoestradasmacstudio/miniforge3/envs/py36/lib/python3.8/site-packages (from nbconvert->jupyter<2.0.0,>=1.0.0->skimpy) (5.7.0)\r\n",
      "Requirement already satisfied: defusedxml in /Users/hugoestradasmacstudio/miniforge3/envs/py36/lib/python3.8/site-packages (from nbconvert->jupyter<2.0.0,>=1.0.0->skimpy) (0.7.1)\r\n",
      "Requirement already satisfied: beautifulsoup4 in /Users/hugoestradasmacstudio/miniforge3/envs/py36/lib/python3.8/site-packages (from nbconvert->jupyter<2.0.0,>=1.0.0->skimpy) (4.11.1)\r\n",
      "Requirement already satisfied: tinycss2 in /Users/hugoestradasmacstudio/miniforge3/envs/py36/lib/python3.8/site-packages (from nbconvert->jupyter<2.0.0,>=1.0.0->skimpy) (1.2.1)\r\n",
      "Requirement already satisfied: bleach in /Users/hugoestradasmacstudio/miniforge3/envs/py36/lib/python3.8/site-packages (from nbconvert->jupyter<2.0.0,>=1.0.0->skimpy) (5.0.1)\r\n",
      "Requirement already satisfied: markupsafe>=2.0 in /Users/hugoestradasmacstudio/miniforge3/envs/py36/lib/python3.8/site-packages (from nbconvert->jupyter<2.0.0,>=1.0.0->skimpy) (2.1.1)\r\n",
      "Requirement already satisfied: pandocfilters>=1.4.1 in /Users/hugoestradasmacstudio/miniforge3/envs/py36/lib/python3.8/site-packages (from nbconvert->jupyter<2.0.0,>=1.0.0->skimpy) (1.5.0)\r\n",
      "Requirement already satisfied: jupyterlab-pygments in /Users/hugoestradasmacstudio/miniforge3/envs/py36/lib/python3.8/site-packages (from nbconvert->jupyter<2.0.0,>=1.0.0->skimpy) (0.2.2)\r\n",
      "Requirement already satisfied: jinja2>=3.0 in /Users/hugoestradasmacstudio/miniforge3/envs/py36/lib/python3.8/site-packages (from nbconvert->jupyter<2.0.0,>=1.0.0->skimpy) (3.1.2)\r\n",
      "Requirement already satisfied: terminado>=0.8.3 in /Users/hugoestradasmacstudio/miniforge3/envs/py36/lib/python3.8/site-packages (from notebook->jupyter<2.0.0,>=1.0.0->skimpy) (0.17.0)\r\n",
      "Requirement already satisfied: argon2-cffi in /Users/hugoestradasmacstudio/miniforge3/envs/py36/lib/python3.8/site-packages (from notebook->jupyter<2.0.0,>=1.0.0->skimpy) (21.3.0)\r\n",
      "Requirement already satisfied: prometheus-client in /Users/hugoestradasmacstudio/miniforge3/envs/py36/lib/python3.8/site-packages (from notebook->jupyter<2.0.0,>=1.0.0->skimpy) (0.15.0)\r\n",
      "Requirement already satisfied: ipython-genutils in /Users/hugoestradasmacstudio/miniforge3/envs/py36/lib/python3.8/site-packages (from notebook->jupyter<2.0.0,>=1.0.0->skimpy) (0.2.0)\r\n",
      "Requirement already satisfied: Send2Trash>=1.8.0 in /Users/hugoestradasmacstudio/miniforge3/envs/py36/lib/python3.8/site-packages (from notebook->jupyter<2.0.0,>=1.0.0->skimpy) (1.8.0)\r\n",
      "Requirement already satisfied: nbclassic>=0.4.7 in /Users/hugoestradasmacstudio/miniforge3/envs/py36/lib/python3.8/site-packages (from notebook->jupyter<2.0.0,>=1.0.0->skimpy) (0.4.8)\r\n",
      "Requirement already satisfied: pyparsing!=3.0.5,>=2.0.2 in /Users/hugoestradasmacstudio/miniforge3/envs/py36/lib/python3.8/site-packages (from packaging->ipykernel<7.0.0,>=6.7.0->skimpy) (3.0.9)\r\n",
      "Requirement already satisfied: qtpy>=2.0.1 in /Users/hugoestradasmacstudio/miniforge3/envs/py36/lib/python3.8/site-packages (from qtconsole->jupyter<2.0.0,>=1.0.0->skimpy) (2.3.0)\r\n",
      "Requirement already satisfied: zipp>=0.5 in /Users/hugoestradasmacstudio/miniforge3/envs/py36/lib/python3.8/site-packages (from importlib-metadata>=3.6->nbconvert->jupyter<2.0.0,>=1.0.0->skimpy) (3.10.0)\r\n",
      "Requirement already satisfied: parso<0.9.0,>=0.8.0 in /Users/hugoestradasmacstudio/miniforge3/envs/py36/lib/python3.8/site-packages (from jedi>=0.16->ipython>=7.23.1->ipykernel<7.0.0,>=6.7.0->skimpy) (0.8.3)\r\n",
      "Requirement already satisfied: platformdirs in /Users/hugoestradasmacstudio/miniforge3/envs/py36/lib/python3.8/site-packages (from jupyter-core>=4.9.2->jupyter-client>=6.1.12->ipykernel<7.0.0,>=6.7.0->skimpy) (2.5.2)\r\n",
      "Requirement already satisfied: notebook-shim>=0.1.0 in /Users/hugoestradasmacstudio/miniforge3/envs/py36/lib/python3.8/site-packages (from nbclassic>=0.4.7->notebook->jupyter<2.0.0,>=1.0.0->skimpy) (0.2.2)\r\n",
      "Requirement already satisfied: jupyter-server>=1.8 in /Users/hugoestradasmacstudio/miniforge3/envs/py36/lib/python3.8/site-packages (from nbclassic>=0.4.7->notebook->jupyter<2.0.0,>=1.0.0->skimpy) (1.23.1)\r\n",
      "Requirement already satisfied: fastjsonschema in /Users/hugoestradasmacstudio/miniforge3/envs/py36/lib/python3.8/site-packages (from nbformat>=5.1->nbconvert->jupyter<2.0.0,>=1.0.0->skimpy) (2.16.2)\r\n",
      "Requirement already satisfied: jsonschema>=2.6 in /Users/hugoestradasmacstudio/miniforge3/envs/py36/lib/python3.8/site-packages (from nbformat>=5.1->nbconvert->jupyter<2.0.0,>=1.0.0->skimpy) (4.17.0)\r\n",
      "Requirement already satisfied: ptyprocess>=0.5 in /Users/hugoestradasmacstudio/miniforge3/envs/py36/lib/python3.8/site-packages (from pexpect>4.3->ipython>=7.23.1->ipykernel<7.0.0,>=6.7.0->skimpy) (0.7.0)\r\n",
      "Requirement already satisfied: wcwidth in /Users/hugoestradasmacstudio/miniforge3/envs/py36/lib/python3.8/site-packages (from prompt-toolkit<3.1.0,>3.0.1->ipython>=7.23.1->ipykernel<7.0.0,>=6.7.0->skimpy) (0.2.5)\r\n",
      "Requirement already satisfied: argon2-cffi-bindings in /Users/hugoestradasmacstudio/miniforge3/envs/py36/lib/python3.8/site-packages (from argon2-cffi->notebook->jupyter<2.0.0,>=1.0.0->skimpy) (21.2.0)\r\n",
      "Requirement already satisfied: soupsieve>1.2 in /Users/hugoestradasmacstudio/miniforge3/envs/py36/lib/python3.8/site-packages (from beautifulsoup4->nbconvert->jupyter<2.0.0,>=1.0.0->skimpy) (2.3.2.post1)\r\n",
      "Requirement already satisfied: webencodings in /Users/hugoestradasmacstudio/miniforge3/envs/py36/lib/python3.8/site-packages (from bleach->nbconvert->jupyter<2.0.0,>=1.0.0->skimpy) (0.5.1)\r\n",
      "Requirement already satisfied: pure-eval in /Users/hugoestradasmacstudio/miniforge3/envs/py36/lib/python3.8/site-packages (from stack-data->ipython>=7.23.1->ipykernel<7.0.0,>=6.7.0->skimpy) (0.2.2)\r\n",
      "Requirement already satisfied: asttokens>=2.1.0 in /Users/hugoestradasmacstudio/miniforge3/envs/py36/lib/python3.8/site-packages (from stack-data->ipython>=7.23.1->ipykernel<7.0.0,>=6.7.0->skimpy) (2.1.0)\r\n",
      "Requirement already satisfied: executing>=1.2.0 in /Users/hugoestradasmacstudio/miniforge3/envs/py36/lib/python3.8/site-packages (from stack-data->ipython>=7.23.1->ipykernel<7.0.0,>=6.7.0->skimpy) (1.2.0)\r\n",
      "Requirement already satisfied: importlib-resources>=1.4.0 in /Users/hugoestradasmacstudio/miniforge3/envs/py36/lib/python3.8/site-packages (from jsonschema>=2.6->nbformat>=5.1->nbconvert->jupyter<2.0.0,>=1.0.0->skimpy) (5.10.0)\r\n",
      "Requirement already satisfied: pyrsistent!=0.17.0,!=0.17.1,!=0.17.2,>=0.14.0 in /Users/hugoestradasmacstudio/miniforge3/envs/py36/lib/python3.8/site-packages (from jsonschema>=2.6->nbformat>=5.1->nbconvert->jupyter<2.0.0,>=1.0.0->skimpy) (0.19.2)\r\n",
      "Requirement already satisfied: attrs>=17.4.0 in /Users/hugoestradasmacstudio/miniforge3/envs/py36/lib/python3.8/site-packages (from jsonschema>=2.6->nbformat>=5.1->nbconvert->jupyter<2.0.0,>=1.0.0->skimpy) (22.1.0)\r\n",
      "Requirement already satisfied: pkgutil-resolve-name>=1.3.10 in /Users/hugoestradasmacstudio/miniforge3/envs/py36/lib/python3.8/site-packages (from jsonschema>=2.6->nbformat>=5.1->nbconvert->jupyter<2.0.0,>=1.0.0->skimpy) (1.3.10)\r\n",
      "Requirement already satisfied: anyio<4,>=3.1.0 in /Users/hugoestradasmacstudio/miniforge3/envs/py36/lib/python3.8/site-packages (from jupyter-server>=1.8->nbclassic>=0.4.7->notebook->jupyter<2.0.0,>=1.0.0->skimpy) (3.6.2)\r\n",
      "Requirement already satisfied: websocket-client in /Users/hugoestradasmacstudio/miniforge3/envs/py36/lib/python3.8/site-packages (from jupyter-server>=1.8->nbclassic>=0.4.7->notebook->jupyter<2.0.0,>=1.0.0->skimpy) (1.4.2)\r\n",
      "Requirement already satisfied: cffi>=1.0.1 in /Users/hugoestradasmacstudio/miniforge3/envs/py36/lib/python3.8/site-packages (from argon2-cffi-bindings->argon2-cffi->notebook->jupyter<2.0.0,>=1.0.0->skimpy) (1.15.1)\r\n",
      "Requirement already satisfied: sniffio>=1.1 in /Users/hugoestradasmacstudio/miniforge3/envs/py36/lib/python3.8/site-packages (from anyio<4,>=3.1.0->jupyter-server>=1.8->nbclassic>=0.4.7->notebook->jupyter<2.0.0,>=1.0.0->skimpy) (1.3.0)\r\n",
      "Requirement already satisfied: idna>=2.8 in /Users/hugoestradasmacstudio/miniforge3/envs/py36/lib/python3.8/site-packages (from anyio<4,>=3.1.0->jupyter-server>=1.8->nbclassic>=0.4.7->notebook->jupyter<2.0.0,>=1.0.0->skimpy) (3.4)\r\n",
      "Requirement already satisfied: pycparser in /Users/hugoestradasmacstudio/miniforge3/envs/py36/lib/python3.8/site-packages (from cffi>=1.0.1->argon2-cffi-bindings->argon2-cffi->notebook->jupyter<2.0.0,>=1.0.0->skimpy) (2.21)\r\n",
      "Installing collected packages: commonmark, typeguard, rich, skimpy\r\n",
      "Successfully installed commonmark-0.9.1 rich-12.6.0 skimpy-0.0.8 typeguard-2.13.3\r\n"
     ]
    }
   ],
   "source": [
    "!pip install skimpy"
   ]
  },
  {
   "cell_type": "code",
   "execution_count": 5,
   "outputs": [],
   "source": [
    "import numpy as np\n",
    "import pandas as pd\n",
    "from sklearn import datasets\n",
    "from skimpy import skim"
   ],
   "metadata": {
    "collapsed": false
   }
  },
  {
   "cell_type": "code",
   "execution_count": 8,
   "outputs": [],
   "source": [
    "iris = datasets.load_iris()\n",
    "df = pd.DataFrame(\\\n",
    "    data= np.c_[iris['data'], iris['target']],\\\n",
    "    columns= iris['feature_names'] + ['target'])"
   ],
   "metadata": {
    "collapsed": false
   }
  },
  {
   "cell_type": "code",
   "execution_count": 9,
   "outputs": [
    {
     "name": "stdout",
     "output_type": "stream",
     "text": [
      "╭─────────────────────────────── skimpy summary ───────────────────────────────╮\n",
      "│          Data Summary                Data Types                              │\n",
      "│ ┏━━━━━━━━━━━━━━━━━━━┳━━━━━━━━┓ ┏━━━━━━━━━━━━━┳━━━━━━━┓                       │\n",
      "│ ┃ dataframe         ┃ Values ┃ ┃ Column Type ┃ Count ┃                       │\n",
      "│ ┡━━━━━━━━━━━━━━━━━━━╇━━━━━━━━┩ ┡━━━━━━━━━━━━━╇━━━━━━━┩                       │\n",
      "│ │ Number of rows    │ 150    │ │ float64     │ 5     │                       │\n",
      "│ │ Number of columns │ 5      │ └─────────────┴───────┘                       │\n",
      "│ └───────────────────┴────────┘                                               │\n",
      "│                                   number                                     │\n",
      "│ ┏━━━━━━━━━━━━━┳━━━━┳━━━━━━┳━━━━━━┳━━━━━━┳━━━━━┳━━━━━┳━━━━━┳━━━━━━┳━━━━━━━━┓  │\n",
      "│ ┃ column_name ┃ NA ┃ NA % ┃ mean ┃ sd   ┃ p0  ┃ p25 ┃ p75 ┃ p100 ┃ hist   ┃  │\n",
      "│ ┡━━━━━━━━━━━━━╇━━━━╇━━━━━━╇━━━━━━╇━━━━━━╇━━━━━╇━━━━━╇━━━━━╇━━━━━━╇━━━━━━━━┩  │\n",
      "│ │ sepal       │  0 │    0 │  5.8 │ 0.83 │ 4.3 │ 5.1 │ 6.4 │  7.9 │ ▃██▇▅▂ │  │\n",
      "│ │ length (cm) │    │      │      │      │     │     │     │      │        │  │\n",
      "│ │ sepal width │  0 │    0 │  3.1 │ 0.44 │   2 │ 2.8 │ 3.3 │  4.4 │ ▁▇█▇▂▁ │  │\n",
      "│ │ (cm)        │    │      │      │      │     │     │     │      │        │  │\n",
      "│ │ petal       │  0 │    0 │  3.8 │  1.8 │   1 │ 1.6 │ 5.1 │  6.9 │ █ ▂▇▆▂ │  │\n",
      "│ │ length (cm) │    │      │      │      │     │     │     │      │        │  │\n",
      "│ │ petal width │  0 │    0 │  1.2 │ 0.76 │ 0.1 │ 0.3 │ 1.8 │  2.5 │ █ ▂▆▄▄ │  │\n",
      "│ │ (cm)        │    │      │      │      │     │     │     │      │        │  │\n",
      "│ │ target      │  0 │    0 │    1 │ 0.82 │   0 │   0 │   2 │    2 │ █  █ █ │  │\n",
      "│ └─────────────┴────┴──────┴──────┴──────┴─────┴─────┴─────┴──────┴────────┘  │\n",
      "╰──────────────────────────────────── End ─────────────────────────────────────╯\n"
     ]
    }
   ],
   "source": [
    "skim(df)"
   ],
   "metadata": {
    "collapsed": false
   }
  },
  {
   "cell_type": "code",
   "execution_count": null,
   "outputs": [],
   "source": [],
   "metadata": {
    "collapsed": false
   }
  }
 ],
 "metadata": {
  "kernelspec": {
   "display_name": "Python 3",
   "language": "python",
   "name": "python3"
  },
  "language_info": {
   "codemirror_mode": {
    "name": "ipython",
    "version": 2
   },
   "file_extension": ".py",
   "mimetype": "text/x-python",
   "name": "python",
   "nbconvert_exporter": "python",
   "pygments_lexer": "ipython2",
   "version": "2.7.6"
  }
 },
 "nbformat": 4,
 "nbformat_minor": 0
}
