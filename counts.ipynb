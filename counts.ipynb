{
 "cells": [
  {
   "cell_type": "code",
   "execution_count": 1,
   "metadata": {
    "collapsed": true
   },
   "outputs": [
    {
     "name": "stdout",
     "output_type": "stream",
     "text": [
      "Collecting sidetable\r\n",
      "  Downloading sidetable-0.9.1-py3-none-any.whl (19 kB)\r\n",
      "Requirement already satisfied: pandas>=1.0 in /Users/hugoestradasmacstudio/miniforge3/envs/py36/lib/python3.8/site-packages (from sidetable) (1.5.1)\r\n",
      "Requirement already satisfied: python-dateutil>=2.8.1 in /Users/hugoestradasmacstudio/miniforge3/envs/py36/lib/python3.8/site-packages (from pandas>=1.0->sidetable) (2.8.2)\r\n",
      "Requirement already satisfied: pytz>=2020.1 in /Users/hugoestradasmacstudio/miniforge3/envs/py36/lib/python3.8/site-packages (from pandas>=1.0->sidetable) (2022.6)\r\n",
      "Requirement already satisfied: numpy>=1.20.3 in /Users/hugoestradasmacstudio/miniforge3/envs/py36/lib/python3.8/site-packages (from pandas>=1.0->sidetable) (1.23.4)\r\n",
      "Requirement already satisfied: six>=1.5 in /Users/hugoestradasmacstudio/miniforge3/envs/py36/lib/python3.8/site-packages (from python-dateutil>=2.8.1->pandas>=1.0->sidetable) (1.16.0)\r\n",
      "Installing collected packages: sidetable\r\n",
      "Successfully installed sidetable-0.9.1\r\n"
     ]
    }
   ],
   "source": [
    "!pip install sidetable"
   ]
  },
  {
   "cell_type": "code",
   "execution_count": 2,
   "outputs": [
    {
     "name": "stdout",
     "output_type": "stream",
     "text": [
      "Collecting torch\r\n",
      "  Downloading torch-1.13.0-cp38-none-macosx_11_0_arm64.whl (55.3 MB)\r\n",
      "\u001B[2K     \u001B[90m━━━━━━━━━━━━━━━━━━━━━━━━━━━━━━━━━━━━━━━━\u001B[0m \u001B[32m55.3/55.3 MB\u001B[0m \u001B[31m6.9 MB/s\u001B[0m eta \u001B[36m0:00:00\u001B[0m00:01\u001B[0m00:01\u001B[0mm\r\n",
      "\u001B[?25hRequirement already satisfied: typing-extensions in /Users/hugoestradasmacstudio/miniforge3/envs/py36/lib/python3.8/site-packages (from torch) (4.4.0)\r\n",
      "Installing collected packages: torch\r\n",
      "Successfully installed torch-1.13.0\r\n"
     ]
    }
   ],
   "source": [
    "!pip install torch"
   ],
   "metadata": {
    "collapsed": false
   }
  },
  {
   "cell_type": "code",
   "execution_count": 4,
   "outputs": [
    {
     "name": "stdout",
     "output_type": "stream",
     "text": [
      "Collecting lovely_tensors\r\n",
      "  Downloading lovely_tensors-0.1.8-py3-none-any.whl (26 kB)\r\n",
      "Collecting lovely-numpy>=0.1.2\r\n",
      "  Downloading lovely_numpy-0.1.3-py3-none-any.whl (15 kB)\r\n",
      "Requirement already satisfied: matplotlib in /Users/hugoestradasmacstudio/miniforge3/envs/py36/lib/python3.8/site-packages (from lovely_tensors) (3.6.2)\r\n",
      "Requirement already satisfied: numpy in /Users/hugoestradasmacstudio/miniforge3/envs/py36/lib/python3.8/site-packages (from lovely_tensors) (1.23.4)\r\n",
      "Requirement already satisfied: torch in /Users/hugoestradasmacstudio/miniforge3/envs/py36/lib/python3.8/site-packages (from lovely_tensors) (1.13.0)\r\n",
      "Requirement already satisfied: pillow in /Users/hugoestradasmacstudio/miniforge3/envs/py36/lib/python3.8/site-packages (from lovely_tensors) (9.2.0)\r\n",
      "Collecting fastcore\r\n",
      "  Downloading fastcore-1.5.27-py3-none-any.whl (67 kB)\r\n",
      "\u001B[2K     \u001B[90m━━━━━━━━━━━━━━━━━━━━━━━━━━━━━━━━━━━━━━━━\u001B[0m \u001B[32m67.1/67.1 kB\u001B[0m \u001B[31m1.0 MB/s\u001B[0m eta \u001B[36m0:00:00\u001B[0ma \u001B[36m0:00:01\u001B[0m\r\n",
      "\u001B[?25hRequirement already satisfied: ipython in /Users/hugoestradasmacstudio/miniforge3/envs/py36/lib/python3.8/site-packages (from lovely_tensors) (8.6.0)\r\n",
      "Requirement already satisfied: pip in /Users/hugoestradasmacstudio/miniforge3/envs/py36/lib/python3.8/site-packages (from fastcore->lovely_tensors) (22.3.1)\r\n",
      "Requirement already satisfied: packaging in /Users/hugoestradasmacstudio/miniforge3/envs/py36/lib/python3.8/site-packages (from fastcore->lovely_tensors) (21.3)\r\n",
      "Requirement already satisfied: prompt-toolkit<3.1.0,>3.0.1 in /Users/hugoestradasmacstudio/miniforge3/envs/py36/lib/python3.8/site-packages (from ipython->lovely_tensors) (3.0.32)\r\n",
      "Requirement already satisfied: stack-data in /Users/hugoestradasmacstudio/miniforge3/envs/py36/lib/python3.8/site-packages (from ipython->lovely_tensors) (0.6.1)\r\n",
      "Requirement already satisfied: pexpect>4.3 in /Users/hugoestradasmacstudio/miniforge3/envs/py36/lib/python3.8/site-packages (from ipython->lovely_tensors) (4.8.0)\r\n",
      "Requirement already satisfied: pickleshare in /Users/hugoestradasmacstudio/miniforge3/envs/py36/lib/python3.8/site-packages (from ipython->lovely_tensors) (0.7.5)\r\n",
      "Requirement already satisfied: backcall in /Users/hugoestradasmacstudio/miniforge3/envs/py36/lib/python3.8/site-packages (from ipython->lovely_tensors) (0.2.0)\r\n",
      "Requirement already satisfied: decorator in /Users/hugoestradasmacstudio/miniforge3/envs/py36/lib/python3.8/site-packages (from ipython->lovely_tensors) (5.1.1)\r\n",
      "Requirement already satisfied: traitlets>=5 in /Users/hugoestradasmacstudio/miniforge3/envs/py36/lib/python3.8/site-packages (from ipython->lovely_tensors) (5.5.0)\r\n",
      "Requirement already satisfied: appnope in /Users/hugoestradasmacstudio/miniforge3/envs/py36/lib/python3.8/site-packages (from ipython->lovely_tensors) (0.1.3)\r\n",
      "Requirement already satisfied: matplotlib-inline in /Users/hugoestradasmacstudio/miniforge3/envs/py36/lib/python3.8/site-packages (from ipython->lovely_tensors) (0.1.6)\r\n",
      "Requirement already satisfied: pygments>=2.4.0 in /Users/hugoestradasmacstudio/miniforge3/envs/py36/lib/python3.8/site-packages (from ipython->lovely_tensors) (2.13.0)\r\n",
      "Requirement already satisfied: jedi>=0.16 in /Users/hugoestradasmacstudio/miniforge3/envs/py36/lib/python3.8/site-packages (from ipython->lovely_tensors) (0.18.1)\r\n",
      "Requirement already satisfied: fonttools>=4.22.0 in /Users/hugoestradasmacstudio/miniforge3/envs/py36/lib/python3.8/site-packages (from matplotlib->lovely_tensors) (4.38.0)\r\n",
      "Requirement already satisfied: kiwisolver>=1.0.1 in /Users/hugoestradasmacstudio/miniforge3/envs/py36/lib/python3.8/site-packages (from matplotlib->lovely_tensors) (1.4.4)\r\n",
      "Requirement already satisfied: pyparsing>=2.2.1 in /Users/hugoestradasmacstudio/miniforge3/envs/py36/lib/python3.8/site-packages (from matplotlib->lovely_tensors) (3.0.9)\r\n",
      "Requirement already satisfied: cycler>=0.10 in /Users/hugoestradasmacstudio/miniforge3/envs/py36/lib/python3.8/site-packages (from matplotlib->lovely_tensors) (0.11.0)\r\n",
      "Requirement already satisfied: python-dateutil>=2.7 in /Users/hugoestradasmacstudio/miniforge3/envs/py36/lib/python3.8/site-packages (from matplotlib->lovely_tensors) (2.8.2)\r\n",
      "Requirement already satisfied: contourpy>=1.0.1 in /Users/hugoestradasmacstudio/miniforge3/envs/py36/lib/python3.8/site-packages (from matplotlib->lovely_tensors) (1.0.6)\r\n",
      "Requirement already satisfied: typing-extensions in /Users/hugoestradasmacstudio/miniforge3/envs/py36/lib/python3.8/site-packages (from torch->lovely_tensors) (4.4.0)\r\n",
      "Requirement already satisfied: parso<0.9.0,>=0.8.0 in /Users/hugoestradasmacstudio/miniforge3/envs/py36/lib/python3.8/site-packages (from jedi>=0.16->ipython->lovely_tensors) (0.8.3)\r\n",
      "Requirement already satisfied: ptyprocess>=0.5 in /Users/hugoestradasmacstudio/miniforge3/envs/py36/lib/python3.8/site-packages (from pexpect>4.3->ipython->lovely_tensors) (0.7.0)\r\n",
      "Requirement already satisfied: wcwidth in /Users/hugoestradasmacstudio/miniforge3/envs/py36/lib/python3.8/site-packages (from prompt-toolkit<3.1.0,>3.0.1->ipython->lovely_tensors) (0.2.5)\r\n",
      "Requirement already satisfied: six>=1.5 in /Users/hugoestradasmacstudio/miniforge3/envs/py36/lib/python3.8/site-packages (from python-dateutil>=2.7->matplotlib->lovely_tensors) (1.16.0)\r\n",
      "Requirement already satisfied: asttokens>=2.1.0 in /Users/hugoestradasmacstudio/miniforge3/envs/py36/lib/python3.8/site-packages (from stack-data->ipython->lovely_tensors) (2.1.0)\r\n",
      "Requirement already satisfied: pure-eval in /Users/hugoestradasmacstudio/miniforge3/envs/py36/lib/python3.8/site-packages (from stack-data->ipython->lovely_tensors) (0.2.2)\r\n",
      "Requirement already satisfied: executing>=1.2.0 in /Users/hugoestradasmacstudio/miniforge3/envs/py36/lib/python3.8/site-packages (from stack-data->ipython->lovely_tensors) (1.2.0)\r\n",
      "Installing collected packages: fastcore, lovely-numpy, lovely_tensors\r\n",
      "Successfully installed fastcore-1.5.27 lovely-numpy-0.1.3 lovely_tensors-0.1.8\r\n"
     ]
    }
   ],
   "source": [
    "!pip install lovely_tensors"
   ],
   "metadata": {
    "collapsed": false
   }
  },
  {
   "cell_type": "code",
   "execution_count": 5,
   "outputs": [
    {
     "data": {
      "text/plain": "Parameter[10, 25] n=250 x∈[-0.200, 0.199] μ=-0.002 σ=0.118 grad"
     },
     "execution_count": 5,
     "metadata": {},
     "output_type": "execute_result"
    }
   ],
   "source": [
    "import torch\n",
    "import lovely_tensors as lt\n",
    "\n",
    "layer = torch.nn.Linear(25, 10)\n",
    "lt.lovely(layer.weight)"
   ],
   "metadata": {
    "collapsed": false
   }
  },
  {
   "cell_type": "code",
   "execution_count": null,
   "outputs": [],
   "source": [],
   "metadata": {
    "collapsed": false
   }
  }
 ],
 "metadata": {
  "kernelspec": {
   "display_name": "Python 3",
   "language": "python",
   "name": "python3"
  },
  "language_info": {
   "codemirror_mode": {
    "name": "ipython",
    "version": 2
   },
   "file_extension": ".py",
   "mimetype": "text/x-python",
   "name": "python",
   "nbconvert_exporter": "python",
   "pygments_lexer": "ipython2",
   "version": "2.7.6"
  }
 },
 "nbformat": 4,
 "nbformat_minor": 0
}
