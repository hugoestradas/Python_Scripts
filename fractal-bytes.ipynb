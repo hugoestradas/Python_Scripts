{
 "cells": [
  {
   "cell_type": "code",
   "execution_count": 1,
   "metadata": {
    "collapsed": true
   },
   "outputs": [],
   "source": [
    "from turtle import Turtle, mainloop\n",
    "from time import perf_counter as clock"
   ]
  },
  {
   "cell_type": "code",
   "execution_count": 2,
   "outputs": [],
   "source": [
    "class Designer(Turtle):\n",
    "\n",
    "    def design(self, homePos, scale):\n",
    "        self.up()\n",
    "        for i in range(5):\n",
    "            self.forward(64.65 * scale)\n",
    "            self.down()\n",
    "            self.wheel(self.position(), scale)\n",
    "            self.up()\n",
    "            self.backward(64.65 * scale)\n",
    "            self.right(72)\n",
    "        self.up()\n",
    "        self.goto(homePos)\n",
    "        self.right(36)\n",
    "        self.forward(24.5 * scale)\n",
    "        self.right(198)\n",
    "        self.down()\n",
    "        self.centerpiece(46 * scale, 143.4, scale)\n",
    "        self.getscreen().tracer(True)\n",
    "\n",
    "    def wheel(self, initpos, scale):\n",
    "        self.right(54)\n",
    "        for i in range(4):\n",
    "            self.pentpiece(initpos, scale)\n",
    "        self.down()\n",
    "        self.left(36)\n",
    "        for i in range(5):\n",
    "            self.tripiece(initpos, scale)\n",
    "        self.left(36)\n",
    "        for i in range(5):\n",
    "            self.down()\n",
    "            self.right(72)\n",
    "            self.forward(28 * scale)\n",
    "            self.up()\n",
    "            self.backward(28 * scale)\n",
    "        self.left(54)\n",
    "        self.getscreen().update()\n",
    "\n",
    "    def tripiece(self, initpos, scale):\n",
    "        oldh = self.heading()\n",
    "        self.down()\n",
    "        self.backward(2.5 * scale)\n",
    "        self.tripolyr(31.5 * scale, scale)\n",
    "        self.up()\n",
    "        self.goto(initpos)\n",
    "        self.setheading(oldh)\n",
    "        self.down()\n",
    "        self.backward(2.5 * scale)\n",
    "        self.tripolyl(31.5 * scale, scale)\n",
    "        self.up()\n",
    "        self.goto(initpos)\n",
    "        self.setheading(oldh)\n",
    "        self.left(72)\n",
    "        self.getscreen().update()\n",
    "\n",
    "    def pentpiece(self, initpos, scale):\n",
    "        oldh = self.heading()\n",
    "        self.up()\n",
    "        self.forward(29 * scale)\n",
    "        self.down()\n",
    "        for i in range(5):\n",
    "            self.forward(18 * scale)\n",
    "            self.right(72)\n",
    "        self.pentr(18 * scale, 75, scale)\n",
    "        self.up()\n",
    "        self.goto(initpos)\n",
    "        self.setheading(oldh)\n",
    "        self.forward(29 * scale)\n",
    "        self.down()\n",
    "        for i in range(5):\n",
    "            self.forward(18 * scale)\n",
    "            self.right(72)\n",
    "        self.pentl(18 * scale, 75, scale)\n",
    "        self.up()\n",
    "        self.goto(initpos)\n",
    "        self.setheading(oldh)\n",
    "        self.left(72)\n",
    "        self.getscreen().update()\n",
    "\n",
    "    def pentl(self, side, ang, scale):\n",
    "        if side < (2 * scale): return\n",
    "        self.forward(side)\n",
    "        self.left(ang)\n",
    "        self.pentl(side - (.38 * scale), ang, scale)\n",
    "\n",
    "    def pentr(self, side, ang, scale):\n",
    "        if side < (2 * scale): return\n",
    "        self.forward(side)\n",
    "        self.right(ang)\n",
    "        self.pentr(side - (.38 * scale), ang, scale)\n",
    "\n",
    "    def tripolyr(self, side, scale):\n",
    "        if side < (4 * scale): return\n",
    "        self.forward(side)\n",
    "        self.right(111)\n",
    "        self.forward(side / 1.78)\n",
    "        self.right(111)\n",
    "        self.forward(side / 1.3)\n",
    "        self.right(146)\n",
    "        self.tripolyr(side * .75, scale)\n",
    "\n",
    "    def tripolyl(self, side, scale):\n",
    "        if side < (4 * scale): return\n",
    "        self.forward(side)\n",
    "        self.left(111)\n",
    "        self.forward(side / 1.78)\n",
    "        self.left(111)\n",
    "        self.forward(side / 1.3)\n",
    "        self.left(146)\n",
    "        self.tripolyl(side * .75, scale)\n",
    "\n",
    "    def centerpiece(self, s, a, scale):\n",
    "        self.forward(s); self.left(a)\n",
    "        if s < (7.5 * scale):\n",
    "            return\n",
    "        self.centerpiece(s - (1.2 * scale), a, scale)"
   ],
   "metadata": {
    "collapsed": false,
    "pycharm": {
     "name": "#%%\n"
    }
   }
  },
  {
   "cell_type": "code",
   "execution_count": 3,
   "outputs": [],
   "source": [
    "def main():\n",
    "    t = Designer()\n",
    "    t.speed(100)\n",
    "    t.hideturtle()\n",
    "    t.getscreen().delay(100)\n",
    "    t.getscreen().tracer(50)\n",
    "    at = clock()\n",
    "    t.design(t.position(), 2)\n",
    "    et = clock()\n",
    "    return \"runtime: %.2f sec.\" % (et-at)"
   ],
   "metadata": {
    "collapsed": false,
    "pycharm": {
     "name": "#%%\n"
    }
   }
  },
  {
   "cell_type": "code",
   "execution_count": null,
   "outputs": [
    {
     "name": "stdout",
     "output_type": "stream",
     "text": [
      "runtime: 5.64 sec.\n"
     ]
    }
   ],
   "source": [
    "if __name__ == '__main__':\n",
    "    msg = main()\n",
    "    print(msg)\n",
    "    mainloop()"
   ],
   "metadata": {
    "collapsed": false,
    "pycharm": {
     "name": "#%%\n",
     "is_executing": true
    }
   }
  },
  {
   "cell_type": "code",
   "execution_count": null,
   "outputs": [],
   "source": [],
   "metadata": {
    "collapsed": false,
    "pycharm": {
     "name": "#%%\n"
    }
   }
  }
 ],
 "metadata": {
  "kernelspec": {
   "display_name": "Python 3",
   "language": "python",
   "name": "python3"
  },
  "language_info": {
   "codemirror_mode": {
    "name": "ipython",
    "version": 2
   },
   "file_extension": ".py",
   "mimetype": "text/x-python",
   "name": "python",
   "nbconvert_exporter": "python",
   "pygments_lexer": "ipython2",
   "version": "2.7.6"
  }
 },
 "nbformat": 4,
 "nbformat_minor": 0
}