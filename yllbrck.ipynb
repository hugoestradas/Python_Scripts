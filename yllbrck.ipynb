{
 "cells": [
  {
   "cell_type": "code",
   "execution_count": 1,
   "metadata": {
    "collapsed": true
   },
   "outputs": [
    {
     "name": "stdout",
     "output_type": "stream",
     "text": [
      "Collecting rembg\r\n",
      "  Downloading rembg-2.0.30-py3-none-any.whl (13 kB)\r\n",
      "Collecting filetype~=1.2.0\r\n",
      "  Downloading filetype-1.2.0-py2.py3-none-any.whl (19 kB)\r\n",
      "Collecting python-multipart~=0.0.5\r\n",
      "  Downloading python-multipart-0.0.5.tar.gz (32 kB)\r\n",
      "  Preparing metadata (setup.py) ... \u001B[?25ldone\r\n",
      "\u001B[?25hRequirement already satisfied: scipy~=1.9.3 in /Users/hugoestradasmacstudio/miniforge3/envs/py36/lib/python3.8/site-packages (from rembg) (1.9.3)\r\n",
      "Requirement already satisfied: uvicorn~=0.20.0 in /Users/hugoestradasmacstudio/miniforge3/envs/py36/lib/python3.8/site-packages (from rembg) (0.20.0)\r\n",
      "Requirement already satisfied: click~=8.1.3 in /Users/hugoestradasmacstudio/miniforge3/envs/py36/lib/python3.8/site-packages (from rembg) (8.1.3)\r\n",
      "Requirement already satisfied: tqdm~=4.64.1 in /Users/hugoestradasmacstudio/miniforge3/envs/py36/lib/python3.8/site-packages (from rembg) (4.64.1)\r\n",
      "Collecting imagehash~=4.3.1\r\n",
      "  Downloading ImageHash-4.3.1-py2.py3-none-any.whl (296 kB)\r\n",
      "\u001B[2K     \u001B[90m━━━━━━━━━━━━━━━━━━━━━━━━━━━━━━━━━━━━━━━\u001B[0m \u001B[32m296.5/296.5 kB\u001B[0m \u001B[31m2.1 MB/s\u001B[0m eta \u001B[36m0:00:00\u001B[0ma \u001B[36m0:00:01\u001B[0m\r\n",
      "\u001B[?25hCollecting numpy~=1.23.5\r\n",
      "  Downloading numpy-1.23.5-cp38-cp38-macosx_11_0_arm64.whl (13.3 MB)\r\n",
      "\u001B[2K     \u001B[90m━━━━━━━━━━━━━━━━━━━━━━━━━━━━━━━━━━━━━━━━\u001B[0m \u001B[32m13.3/13.3 MB\u001B[0m \u001B[31m9.8 MB/s\u001B[0m eta \u001B[36m0:00:00\u001B[0ma \u001B[36m0:00:01\u001B[0mm\r\n",
      "\u001B[?25hCollecting asyncer~=0.0.2\r\n",
      "  Downloading asyncer-0.0.2-py3-none-any.whl (8.3 kB)\r\n",
      "Collecting pillow~=9.3.0\r\n",
      "  Downloading Pillow-9.3.0-cp38-cp38-macosx_11_0_arm64.whl (2.9 MB)\r\n",
      "\u001B[2K     \u001B[90m━━━━━━━━━━━━━━━━━━━━━━━━━━━━━━━━━━━━━━━━\u001B[0m \u001B[32m2.9/2.9 MB\u001B[0m \u001B[31m6.8 MB/s\u001B[0m eta \u001B[36m0:00:00\u001B[0m00:01\u001B[0m00:01\u001B[0m\r\n",
      "\u001B[?25hCollecting fastapi~=0.87.0\r\n",
      "  Downloading fastapi-0.87.0-py3-none-any.whl (55 kB)\r\n",
      "\u001B[2K     \u001B[90m━━━━━━━━━━━━━━━━━━━━━━━━━━━━━━━━━━━━━━━━\u001B[0m \u001B[32m55.5/55.5 kB\u001B[0m \u001B[31m6.8 MB/s\u001B[0m eta \u001B[36m0:00:00\u001B[0m\r\n",
      "\u001B[?25hRequirement already satisfied: aiohttp~=3.8.1 in /Users/hugoestradasmacstudio/miniforge3/envs/py36/lib/python3.8/site-packages (from rembg) (3.8.4)\r\n",
      "Collecting opencv-python-headless~=4.6.0.66\r\n",
      "  Downloading opencv_python_headless-4.6.0.66-cp37-abi3-macosx_11_0_arm64.whl (30.0 MB)\r\n",
      "\u001B[2K     \u001B[90m━━━━━━━━━━━━━━━━━━━━━━━━━━━━━━━━━━━━━━━━\u001B[0m \u001B[32m30.0/30.0 MB\u001B[0m \u001B[31m12.6 MB/s\u001B[0m eta \u001B[36m0:00:00\u001B[0m00:01\u001B[0m00:01\u001B[0m\r\n",
      "\u001B[?25hCollecting pooch~=1.6.0\r\n",
      "  Downloading pooch-1.6.0-py3-none-any.whl (56 kB)\r\n",
      "\u001B[2K     \u001B[90m━━━━━━━━━━━━━━━━━━━━━━━━━━━━━━━━━━━━━━━━\u001B[0m \u001B[32m56.3/56.3 kB\u001B[0m \u001B[31m3.0 MB/s\u001B[0m eta \u001B[36m0:00:00\u001B[0m\r\n",
      "\u001B[?25hCollecting pymatting~=1.1.8\r\n",
      "  Downloading PyMatting-1.1.8-py3-none-any.whl (47 kB)\r\n",
      "\u001B[2K     \u001B[90m━━━━━━━━━━━━━━━━━━━━━━━━━━━━━━━━━━━━━━━━\u001B[0m \u001B[32m47.7/47.7 kB\u001B[0m \u001B[31m3.0 MB/s\u001B[0m eta \u001B[36m0:00:00\u001B[0m\r\n",
      "\u001B[?25hCollecting scikit-image~=0.19.3\r\n",
      "  Downloading scikit_image-0.19.3-cp38-cp38-macosx_12_0_arm64.whl (12.4 MB)\r\n",
      "\u001B[2K     \u001B[90m━━━━━━━━━━━━━━━━━━━━━━━━━━━━━━━━━━━━━━━━\u001B[0m \u001B[32m12.4/12.4 MB\u001B[0m \u001B[31m13.9 MB/s\u001B[0m eta \u001B[36m0:00:00\u001B[0m00:01\u001B[0m00:01\u001B[0m\r\n",
      "\u001B[?25hCollecting onnxruntime~=1.13.1\r\n",
      "  Downloading onnxruntime-1.13.1-cp38-cp38-macosx_11_0_arm64.whl (5.4 MB)\r\n",
      "\u001B[2K     \u001B[90m━━━━━━━━━━━━━━━━━━━━━━━━━━━━━━━━━━━━━━━━\u001B[0m \u001B[32m5.4/5.4 MB\u001B[0m \u001B[31m14.0 MB/s\u001B[0m eta \u001B[36m0:00:00\u001B[0m00:01\u001B[0m00:01\u001B[0m\r\n",
      "\u001B[?25hCollecting watchdog~=2.1.9\r\n",
      "  Downloading watchdog-2.1.9-cp38-cp38-macosx_11_0_arm64.whl (88 kB)\r\n",
      "\u001B[2K     \u001B[90m━━━━━━━━━━━━━━━━━━━━━━━━━━━━━━━━━━━━━━━━\u001B[0m \u001B[32m88.0/88.0 kB\u001B[0m \u001B[31m3.2 MB/s\u001B[0m eta \u001B[36m0:00:00\u001B[0m\r\n",
      "\u001B[?25hRequirement already satisfied: aiosignal>=1.1.2 in /Users/hugoestradasmacstudio/miniforge3/envs/py36/lib/python3.8/site-packages (from aiohttp~=3.8.1->rembg) (1.3.1)\r\n",
      "Requirement already satisfied: charset-normalizer<4.0,>=2.0 in /Users/hugoestradasmacstudio/miniforge3/envs/py36/lib/python3.8/site-packages (from aiohttp~=3.8.1->rembg) (2.1.1)\r\n",
      "Requirement already satisfied: async-timeout<5.0,>=4.0.0a3 in /Users/hugoestradasmacstudio/miniforge3/envs/py36/lib/python3.8/site-packages (from aiohttp~=3.8.1->rembg) (4.0.2)\r\n",
      "Requirement already satisfied: frozenlist>=1.1.1 in /Users/hugoestradasmacstudio/miniforge3/envs/py36/lib/python3.8/site-packages (from aiohttp~=3.8.1->rembg) (1.3.3)\r\n",
      "Requirement already satisfied: multidict<7.0,>=4.5 in /Users/hugoestradasmacstudio/miniforge3/envs/py36/lib/python3.8/site-packages (from aiohttp~=3.8.1->rembg) (6.0.4)\r\n",
      "Requirement already satisfied: yarl<2.0,>=1.0 in /Users/hugoestradasmacstudio/miniforge3/envs/py36/lib/python3.8/site-packages (from aiohttp~=3.8.1->rembg) (1.8.2)\r\n",
      "Requirement already satisfied: attrs>=17.3.0 in /Users/hugoestradasmacstudio/miniforge3/envs/py36/lib/python3.8/site-packages (from aiohttp~=3.8.1->rembg) (22.1.0)\r\n",
      "Requirement already satisfied: anyio<4.0.0,>=3.4.0 in /Users/hugoestradasmacstudio/miniforge3/envs/py36/lib/python3.8/site-packages (from asyncer~=0.0.2->rembg) (3.6.2)\r\n",
      "Requirement already satisfied: pydantic!=1.7,!=1.7.1,!=1.7.2,!=1.7.3,!=1.8,!=1.8.1,<2.0.0,>=1.6.2 in /Users/hugoestradasmacstudio/miniforge3/envs/py36/lib/python3.8/site-packages (from fastapi~=0.87.0->rembg) (1.10.5)\r\n",
      "Collecting starlette==0.21.0\r\n",
      "  Downloading starlette-0.21.0-py3-none-any.whl (64 kB)\r\n",
      "\u001B[2K     \u001B[90m━━━━━━━━━━━━━━━━━━━━━━━━━━━━━━━━━━━━━━━━\u001B[0m \u001B[32m64.0/64.0 kB\u001B[0m \u001B[31m3.1 MB/s\u001B[0m eta \u001B[36m0:00:00\u001B[0m\r\n",
      "\u001B[?25hRequirement already satisfied: typing-extensions>=3.10.0 in /Users/hugoestradasmacstudio/miniforge3/envs/py36/lib/python3.8/site-packages (from starlette==0.21.0->fastapi~=0.87.0->rembg) (4.4.0)\r\n",
      "Collecting PyWavelets\r\n",
      "  Downloading PyWavelets-1.4.1-cp38-cp38-macosx_11_0_arm64.whl (4.3 MB)\r\n",
      "\u001B[2K     \u001B[90m━━━━━━━━━━━━━━━━━━━━━━━━━━━━━━━━━━━━━━━━\u001B[0m \u001B[32m4.3/4.3 MB\u001B[0m \u001B[31m12.3 MB/s\u001B[0m eta \u001B[36m0:00:00\u001B[0m00:01\u001B[0m00:01\u001B[0m\r\n",
      "\u001B[?25hCollecting protobuf\r\n",
      "  Downloading protobuf-4.22.0-cp37-abi3-macosx_10_9_universal2.whl (397 kB)\r\n",
      "\u001B[2K     \u001B[90m━━━━━━━━━━━━━━━━━━━━━━━━━━━━━━━━━━━━━━━\u001B[0m \u001B[32m397.2/397.2 kB\u001B[0m \u001B[31m4.1 MB/s\u001B[0m eta \u001B[36m0:00:00\u001B[0ma \u001B[36m0:00:01\u001B[0m\r\n",
      "\u001B[?25hCollecting flatbuffers\r\n",
      "  Downloading flatbuffers-23.1.21-py2.py3-none-any.whl (26 kB)\r\n",
      "Requirement already satisfied: packaging in /Users/hugoestradasmacstudio/miniforge3/envs/py36/lib/python3.8/site-packages (from onnxruntime~=1.13.1->rembg) (21.3)\r\n",
      "Collecting sympy\r\n",
      "  Downloading sympy-1.11.1-py3-none-any.whl (6.5 MB)\r\n",
      "\u001B[2K     \u001B[90m━━━━━━━━━━━━━━━━━━━━━━━━━━━━━━━━━━━━━━━━\u001B[0m \u001B[32m6.5/6.5 MB\u001B[0m \u001B[31m22.8 MB/s\u001B[0m eta \u001B[36m0:00:00\u001B[0ma \u001B[36m0:00:01\u001B[0m\r\n",
      "\u001B[?25hCollecting coloredlogs\r\n",
      "  Downloading coloredlogs-15.0.1-py2.py3-none-any.whl (46 kB)\r\n",
      "\u001B[2K     \u001B[90m━━━━━━━━━━━━━━━━━━━━━━━━━━━━━━━━━━━━━━━━\u001B[0m \u001B[32m46.0/46.0 kB\u001B[0m \u001B[31m3.1 MB/s\u001B[0m eta \u001B[36m0:00:00\u001B[0m\r\n",
      "\u001B[?25hCollecting appdirs>=1.3.0\r\n",
      "  Downloading appdirs-1.4.4-py2.py3-none-any.whl (9.6 kB)\r\n",
      "Requirement already satisfied: requests>=2.19.0 in /Users/hugoestradasmacstudio/miniforge3/envs/py36/lib/python3.8/site-packages (from pooch~=1.6.0->rembg) (2.28.2)\r\n",
      "Requirement already satisfied: numba!=0.49.0 in /Users/hugoestradasmacstudio/miniforge3/envs/py36/lib/python3.8/site-packages (from pymatting~=1.1.8->rembg) (0.56.4)\r\n",
      "Requirement already satisfied: six>=1.4.0 in /Users/hugoestradasmacstudio/miniforge3/envs/py36/lib/python3.8/site-packages (from python-multipart~=0.0.5->rembg) (1.16.0)\r\n",
      "Collecting networkx>=2.2\r\n",
      "  Downloading networkx-3.0-py3-none-any.whl (2.0 MB)\r\n",
      "\u001B[2K     \u001B[90m━━━━━━━━━━━━━━━━━━━━━━━━━━━━━━━━━━━━━━━━\u001B[0m \u001B[32m2.0/2.0 MB\u001B[0m \u001B[31m31.8 MB/s\u001B[0m eta \u001B[36m0:00:00\u001B[0ma \u001B[36m0:00:01\u001B[0m\r\n",
      "\u001B[?25hCollecting tifffile>=2019.7.26\r\n",
      "  Downloading tifffile-2023.2.3-py3-none-any.whl (215 kB)\r\n",
      "\u001B[2K     \u001B[90m━━━━━━━━━━━━━━━━━━━━━━━━━━━━━━━━━━━━━━━\u001B[0m \u001B[32m215.1/215.1 kB\u001B[0m \u001B[31m7.0 MB/s\u001B[0m eta \u001B[36m0:00:00\u001B[0m00:01\u001B[0m\r\n",
      "\u001B[?25hCollecting imageio>=2.4.1\r\n",
      "  Downloading imageio-2.25.1-py3-none-any.whl (3.4 MB)\r\n",
      "\u001B[2K     \u001B[90m━━━━━━━━━━━━━━━━━━━━━━━━━━━━━━━━━━━━━━━━\u001B[0m \u001B[32m3.4/3.4 MB\u001B[0m \u001B[31m39.0 MB/s\u001B[0m eta \u001B[36m0:00:00\u001B[0ma \u001B[36m0:00:01\u001B[0m\r\n",
      "\u001B[?25hRequirement already satisfied: h11>=0.8 in /Users/hugoestradasmacstudio/miniforge3/envs/py36/lib/python3.8/site-packages (from uvicorn~=0.20.0->rembg) (0.14.0)\r\n",
      "Requirement already satisfied: sniffio>=1.1 in /Users/hugoestradasmacstudio/miniforge3/envs/py36/lib/python3.8/site-packages (from anyio<4.0.0,>=3.4.0->asyncer~=0.0.2->rembg) (1.3.0)\r\n",
      "Requirement already satisfied: idna>=2.8 in /Users/hugoestradasmacstudio/miniforge3/envs/py36/lib/python3.8/site-packages (from anyio<4.0.0,>=3.4.0->asyncer~=0.0.2->rembg) (3.4)\r\n",
      "Requirement already satisfied: setuptools in /Users/hugoestradasmacstudio/miniforge3/envs/py36/lib/python3.8/site-packages (from numba!=0.49.0->pymatting~=1.1.8->rembg) (65.5.1)\r\n",
      "Requirement already satisfied: llvmlite<0.40,>=0.39.0dev0 in /Users/hugoestradasmacstudio/miniforge3/envs/py36/lib/python3.8/site-packages (from numba!=0.49.0->pymatting~=1.1.8->rembg) (0.39.1)\r\n",
      "Requirement already satisfied: importlib-metadata in /Users/hugoestradasmacstudio/miniforge3/envs/py36/lib/python3.8/site-packages (from numba!=0.49.0->pymatting~=1.1.8->rembg) (6.0.0)\r\n",
      "Requirement already satisfied: pyparsing!=3.0.5,>=2.0.2 in /Users/hugoestradasmacstudio/miniforge3/envs/py36/lib/python3.8/site-packages (from packaging->onnxruntime~=1.13.1->rembg) (3.0.9)\r\n",
      "Requirement already satisfied: urllib3<1.27,>=1.21.1 in /Users/hugoestradasmacstudio/miniforge3/envs/py36/lib/python3.8/site-packages (from requests>=2.19.0->pooch~=1.6.0->rembg) (1.26.14)\r\n",
      "Requirement already satisfied: certifi>=2017.4.17 in /Users/hugoestradasmacstudio/miniforge3/envs/py36/lib/python3.8/site-packages (from requests>=2.19.0->pooch~=1.6.0->rembg) (2022.12.7)\r\n",
      "Collecting humanfriendly>=9.1\r\n",
      "  Downloading humanfriendly-10.0-py2.py3-none-any.whl (86 kB)\r\n",
      "\u001B[2K     \u001B[90m━━━━━━━━━━━━━━━━━━━━━━━━━━━━━━━━━━━━━━━━\u001B[0m \u001B[32m86.8/86.8 kB\u001B[0m \u001B[31m3.3 MB/s\u001B[0m eta \u001B[36m0:00:00\u001B[0m\r\n",
      "\u001B[?25hCollecting mpmath>=0.19\r\n",
      "  Downloading mpmath-1.2.1-py3-none-any.whl (532 kB)\r\n",
      "\u001B[2K     \u001B[90m━━━━━━━━━━━━━━━━━━━━━━━━━━━━━━━━━━━━━━\u001B[0m \u001B[32m532.6/532.6 kB\u001B[0m \u001B[31m27.9 MB/s\u001B[0m eta \u001B[36m0:00:00\u001B[0m\r\n",
      "\u001B[?25hRequirement already satisfied: zipp>=0.5 in /Users/hugoestradasmacstudio/miniforge3/envs/py36/lib/python3.8/site-packages (from importlib-metadata->numba!=0.49.0->pymatting~=1.1.8->rembg) (3.10.0)\r\n",
      "Building wheels for collected packages: python-multipart\r\n",
      "  Building wheel for python-multipart (setup.py) ... \u001B[?25ldone\r\n",
      "\u001B[?25h  Created wheel for python-multipart: filename=python_multipart-0.0.5-py3-none-any.whl size=31670 sha256=f07f9a0daa5815657afaef05b07a94234676edafa134edbc1710108caf52e33d\r\n",
      "  Stored in directory: /Users/hugoestradasmacstudio/Library/Caches/pip/wheels/bf/98/35/8ff0b7838d6311008ca83f447b67df38d2d40f55aedadaf332\r\n",
      "Successfully built python-multipart\r\n",
      "Installing collected packages: mpmath, flatbuffers, filetype, appdirs, watchdog, sympy, python-multipart, protobuf, pillow, numpy, networkx, humanfriendly, tifffile, starlette, PyWavelets, pooch, opencv-python-headless, imageio, coloredlogs, asyncer, scikit-image, pymatting, onnxruntime, imagehash, fastapi, rembg\r\n",
      "  Attempting uninstall: pillow\r\n",
      "    Found existing installation: Pillow 9.2.0\r\n",
      "    Uninstalling Pillow-9.2.0:\r\n",
      "      Successfully uninstalled Pillow-9.2.0\r\n",
      "  Attempting uninstall: numpy\r\n",
      "    Found existing installation: numpy 1.23.4\r\n",
      "    Uninstalling numpy-1.23.4:\r\n",
      "      Successfully uninstalled numpy-1.23.4\r\n",
      "  Attempting uninstall: starlette\r\n",
      "    Found existing installation: starlette 0.25.0\r\n",
      "    Uninstalling starlette-0.25.0:\r\n",
      "      Successfully uninstalled starlette-0.25.0\r\n",
      "  Attempting uninstall: fastapi\r\n",
      "    Found existing installation: fastapi 0.92.0\r\n",
      "    Uninstalling fastapi-0.92.0:\r\n",
      "      Successfully uninstalled fastapi-0.92.0\r\n",
      "Successfully installed PyWavelets-1.4.1 appdirs-1.4.4 asyncer-0.0.2 coloredlogs-15.0.1 fastapi-0.87.0 filetype-1.2.0 flatbuffers-23.1.21 humanfriendly-10.0 imagehash-4.3.1 imageio-2.25.1 mpmath-1.2.1 networkx-3.0 numpy-1.23.5 onnxruntime-1.13.1 opencv-python-headless-4.6.0.66 pillow-9.3.0 pooch-1.6.0 protobuf-4.22.0 pymatting-1.1.8 python-multipart-0.0.5 rembg-2.0.30 scikit-image-0.19.3 starlette-0.21.0 sympy-1.11.1 tifffile-2023.2.3 watchdog-2.1.9\r\n"
     ]
    }
   ],
   "source": [
    "    !pip install rembg"
   ]
  },
  {
   "cell_type": "code",
   "execution_count": 5,
   "outputs": [],
   "source": [
    "from rembg import remove"
   ],
   "metadata": {
    "collapsed": false
   }
  },
  {
   "cell_type": "code",
   "execution_count": 12,
   "outputs": [
    {
     "name": "stderr",
     "output_type": "stream",
     "text": [
      "IOPub data rate exceeded.\n",
      "The notebook server will temporarily stop sending output\n",
      "to the client in order to avoid crashing it.\n",
      "To change this limit, set the config variable\n",
      "`--NotebookApp.iopub_data_rate_limit`.\n",
      "\n",
      "Current values:\n",
      "NotebookApp.iopub_data_rate_limit=1000000.0 (bytes/sec)\n",
      "NotebookApp.rate_limit_window=3.0 (secs)\n",
      "\n"
     ]
    }
   ],
   "source": [
    "input_path = 'input.png'\n",
    "output_path = 'output.png'\n",
    "\n",
    "with open(input_path, 'rb') as i:\n",
    "    with open(output_path, 'wb') as o:\n",
    "        input = i.read()\n",
    "        print(input)\n",
    "        output = remove(input)\n",
    "        o.write(output)"
   ],
   "metadata": {
    "collapsed": false
   }
  },
  {
   "cell_type": "code",
   "execution_count": 11,
   "outputs": [],
   "source": [
    "from pathlib import Path\n",
    "from rembg import remove, new_session\n",
    "\n",
    "session = new_session()\n",
    "\n",
    "for file in Path('/Users/hugoestradasmacstudio/Documents/Projects/Notebooks').glob('*.png'):\n",
    "    input_path = str(file)\n",
    "    output_path = str(file.parent / (file.stem + \".out.png\"))\n",
    "\n",
    "    with open(input_path, 'rb') as i:\n",
    "        with open(output_path, 'wb') as o:\n",
    "            input = i.read()\n",
    "            output = remove(input, session=session)\n",
    "            o.write(output)"
   ],
   "metadata": {
    "collapsed": false
   }
  }
 ],
 "metadata": {
  "kernelspec": {
   "display_name": "Python 3",
   "language": "python",
   "name": "python3"
  },
  "language_info": {
   "codemirror_mode": {
    "name": "ipython",
    "version": 2
   },
   "file_extension": ".py",
   "mimetype": "text/x-python",
   "name": "python",
   "nbconvert_exporter": "python",
   "pygments_lexer": "ipython2",
   "version": "2.7.6"
  }
 },
 "nbformat": 4,
 "nbformat_minor": 0
}
