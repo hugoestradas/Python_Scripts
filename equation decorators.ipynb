{
 "cells": [
  {
   "cell_type": "code",
   "execution_count": 1,
   "outputs": [],
   "source": [
    "import math\n",
    "import latexify"
   ],
   "metadata": {
    "collapsed": false,
    "pycharm": {
     "name": "#%%\n"
    }
   }
  },
  {
   "cell_type": "code",
   "execution_count": 2,
   "outputs": [
    {
     "name": "stdout",
     "output_type": "stream",
     "text": [
      "-1.0\n",
      "\\mathrm{solve}(a, b, c) \\triangleq \\frac{-b + \\sqrt{b^{2} - 4ac}}{2a}\n",
      "\n"
     ]
    },
    {
     "data": {
      "text/plain": "<latexify.core.with_latex.<locals>._LatexifiedFunction at 0x10835c640>",
      "text/latex": "$$ \\displaystyle \\mathrm{solve}(a, b, c) \\triangleq \\frac{-b + \\sqrt{b^{2} - 4ac}}{2a} $$"
     },
     "execution_count": 2,
     "metadata": {},
     "output_type": "execute_result"
    }
   ],
   "source": [
    "@latexify.with_latex\n",
    "def solve(a, b, c):\n",
    "    return (-b + math.sqrt(b**2 - 4*a*c)) / (2*a)\n",
    "\n",
    "print(solve(1, 4, 3))\n",
    "print(solve)\n",
    "print()\n",
    "solve"
   ],
   "metadata": {
    "collapsed": false,
    "pycharm": {
     "name": "#%%\n"
    }
   }
  },
  {
   "cell_type": "code",
   "execution_count": 3,
   "outputs": [
    {
     "data": {
      "text/plain": "<latexify.core.with_latex.<locals>._LatexifiedFunction at 0x10835c6a0>",
      "text/latex": "$$ \\displaystyle \\mathrm{fib}(x) \\triangleq \\left\\{ \\begin{array}{ll} 1, & \\mathrm{if} \\ x=0 \\\\ 1, & \\mathrm{if} \\ x=1 \\\\ \\mathrm{fib}\\left(x - 1\\right) + \\mathrm{fib}\\left(x - 2\\right), & \\mathrm{otherwise} \\end{array} \\right. $$"
     },
     "execution_count": 3,
     "metadata": {},
     "output_type": "execute_result"
    }
   ],
   "source": [
    "# serie de fibonacci\n",
    "@latexify.with_latex\n",
    "def fib(x):\n",
    "    if x == 0:\n",
    "        return 1\n",
    "    elif x == 1:\n",
    "        return 1\n",
    "    else:\n",
    "        return fib(x-1) + fib(x-2)\n",
    "\n",
    "fib"
   ],
   "metadata": {
    "collapsed": false,
    "pycharm": {
     "name": "#%%\n"
    }
   }
  },
  {
   "cell_type": "code",
   "execution_count": 1,
   "outputs": [
    {
     "name": "stdout",
     "output_type": "stream",
     "text": [
      "Collecting sklearn\r\n",
      "  Downloading sklearn-0.0.tar.gz (1.1 kB)\r\n",
      "  Preparing metadata (setup.py) ... \u001B[?25lerror\r\n",
      "  \u001B[1;31merror\u001B[0m: \u001B[1msubprocess-exited-with-error\u001B[0m\r\n",
      "  \r\n",
      "  \u001B[31m×\u001B[0m \u001B[32mpython setup.py egg_info\u001B[0m did not run successfully.\r\n",
      "  \u001B[31m│\u001B[0m exit code: \u001B[1;36m1\u001B[0m\r\n",
      "  \u001B[31m╰─>\u001B[0m \u001B[31m[51 lines of output]\u001B[0m\r\n",
      "  \u001B[31m   \u001B[0m running egg_info\r\n",
      "  \u001B[31m   \u001B[0m creating /private/var/folders/4l/pln421rx34gc5zykzpvhsntm0000gn/T/pip-pip-egg-info-nco1rzyt/sklearn.egg-info\r\n",
      "  \u001B[31m   \u001B[0m writing /private/var/folders/4l/pln421rx34gc5zykzpvhsntm0000gn/T/pip-pip-egg-info-nco1rzyt/sklearn.egg-info/PKG-INFO\r\n",
      "  \u001B[31m   \u001B[0m writing dependency_links to /private/var/folders/4l/pln421rx34gc5zykzpvhsntm0000gn/T/pip-pip-egg-info-nco1rzyt/sklearn.egg-info/dependency_links.txt\r\n",
      "  \u001B[31m   \u001B[0m writing requirements to /private/var/folders/4l/pln421rx34gc5zykzpvhsntm0000gn/T/pip-pip-egg-info-nco1rzyt/sklearn.egg-info/requires.txt\r\n",
      "  \u001B[31m   \u001B[0m writing top-level names to /private/var/folders/4l/pln421rx34gc5zykzpvhsntm0000gn/T/pip-pip-egg-info-nco1rzyt/sklearn.egg-info/top_level.txt\r\n",
      "  \u001B[31m   \u001B[0m writing manifest file '/private/var/folders/4l/pln421rx34gc5zykzpvhsntm0000gn/T/pip-pip-egg-info-nco1rzyt/sklearn.egg-info/SOURCES.txt'\r\n",
      "  \u001B[31m   \u001B[0m Traceback (most recent call last):\r\n",
      "  \u001B[31m   \u001B[0m   File \"<string>\", line 2, in <module>\r\n",
      "  \u001B[31m   \u001B[0m   File \"<pip-setuptools-caller>\", line 34, in <module>\r\n",
      "  \u001B[31m   \u001B[0m   File \"/private/var/folders/4l/pln421rx34gc5zykzpvhsntm0000gn/T/pip-install-sbpwy2aq/sklearn_dd36d79ae93743b1bb4fcf1400268aed/setup.py\", line 6, in <module>\r\n",
      "  \u001B[31m   \u001B[0m     setup(\r\n",
      "  \u001B[31m   \u001B[0m   File \"/opt/homebrew/Caskroom/miniforge/base/envs/py38/lib/python3.8/site-packages/setuptools/__init__.py\", line 153, in setup\r\n",
      "  \u001B[31m   \u001B[0m     return distutils.core.setup(**attrs)\r\n",
      "  \u001B[31m   \u001B[0m   File \"/opt/homebrew/Caskroom/miniforge/base/envs/py38/lib/python3.8/distutils/core.py\", line 148, in setup\r\n",
      "  \u001B[31m   \u001B[0m     dist.run_commands()\r\n",
      "  \u001B[31m   \u001B[0m   File \"/opt/homebrew/Caskroom/miniforge/base/envs/py38/lib/python3.8/distutils/dist.py\", line 966, in run_commands\r\n",
      "  \u001B[31m   \u001B[0m     self.run_command(cmd)\r\n",
      "  \u001B[31m   \u001B[0m   File \"/opt/homebrew/Caskroom/miniforge/base/envs/py38/lib/python3.8/distutils/dist.py\", line 985, in run_command\r\n",
      "  \u001B[31m   \u001B[0m     cmd_obj.run()\r\n",
      "  \u001B[31m   \u001B[0m   File \"/opt/homebrew/Caskroom/miniforge/base/envs/py38/lib/python3.8/site-packages/setuptools/command/egg_info.py\", line 299, in run\r\n",
      "  \u001B[31m   \u001B[0m     self.find_sources()\r\n",
      "  \u001B[31m   \u001B[0m   File \"/opt/homebrew/Caskroom/miniforge/base/envs/py38/lib/python3.8/site-packages/setuptools/command/egg_info.py\", line 306, in find_sources\r\n",
      "  \u001B[31m   \u001B[0m     mm.run()\r\n",
      "  \u001B[31m   \u001B[0m   File \"/opt/homebrew/Caskroom/miniforge/base/envs/py38/lib/python3.8/site-packages/setuptools/command/egg_info.py\", line 541, in run\r\n",
      "  \u001B[31m   \u001B[0m     self.add_defaults()\r\n",
      "  \u001B[31m   \u001B[0m   File \"/opt/homebrew/Caskroom/miniforge/base/envs/py38/lib/python3.8/site-packages/setuptools/command/egg_info.py\", line 578, in add_defaults\r\n",
      "  \u001B[31m   \u001B[0m     sdist.add_defaults(self)\r\n",
      "  \u001B[31m   \u001B[0m   File \"/opt/homebrew/Caskroom/miniforge/base/envs/py38/lib/python3.8/distutils/command/sdist.py\", line 226, in add_defaults\r\n",
      "  \u001B[31m   \u001B[0m     self._add_defaults_python()\r\n",
      "  \u001B[31m   \u001B[0m   File \"/opt/homebrew/Caskroom/miniforge/base/envs/py38/lib/python3.8/site-packages/setuptools/command/sdist.py\", line 111, in _add_defaults_python\r\n",
      "  \u001B[31m   \u001B[0m     build_py = self.get_finalized_command('build_py')\r\n",
      "  \u001B[31m   \u001B[0m   File \"/opt/homebrew/Caskroom/miniforge/base/envs/py38/lib/python3.8/distutils/cmd.py\", line 299, in get_finalized_command\r\n",
      "  \u001B[31m   \u001B[0m     cmd_obj.ensure_finalized()\r\n",
      "  \u001B[31m   \u001B[0m   File \"/opt/homebrew/Caskroom/miniforge/base/envs/py38/lib/python3.8/distutils/cmd.py\", line 107, in ensure_finalized\r\n",
      "  \u001B[31m   \u001B[0m     self.finalize_options()\r\n",
      "  \u001B[31m   \u001B[0m   File \"/opt/homebrew/Caskroom/miniforge/base/envs/py38/lib/python3.8/site-packages/setuptools/command/build_py.py\", line 29, in finalize_options\r\n",
      "  \u001B[31m   \u001B[0m     orig.build_py.finalize_options(self)\r\n",
      "  \u001B[31m   \u001B[0m   File \"/opt/homebrew/Caskroom/miniforge/base/envs/py38/lib/python3.8/distutils/command/build_py.py\", line 43, in finalize_options\r\n",
      "  \u001B[31m   \u001B[0m     self.set_undefined_options('build',\r\n",
      "  \u001B[31m   \u001B[0m   File \"/opt/homebrew/Caskroom/miniforge/base/envs/py38/lib/python3.8/distutils/cmd.py\", line 286, in set_undefined_options\r\n",
      "  \u001B[31m   \u001B[0m     src_cmd_obj = self.distribution.get_command_obj(src_cmd)\r\n",
      "  \u001B[31m   \u001B[0m   File \"/opt/homebrew/Caskroom/miniforge/base/envs/py38/lib/python3.8/distutils/dist.py\", line 857, in get_command_obj\r\n",
      "  \u001B[31m   \u001B[0m     klass = self.get_command_class(command)\r\n",
      "  \u001B[31m   \u001B[0m   File \"/opt/homebrew/Caskroom/miniforge/base/envs/py38/lib/python3.8/site-packages/setuptools/dist.py\", line 893, in get_command_class\r\n",
      "  \u001B[31m   \u001B[0m     self.cmdclass[command] = cmdclass = ep.load()\r\n",
      "  \u001B[31m   \u001B[0m   File \"/opt/homebrew/Caskroom/miniforge/base/envs/py38/lib/python3.8/site-packages/pkg_resources/__init__.py\", line 2465, in load\r\n",
      "  \u001B[31m   \u001B[0m     return self.resolve()\r\n",
      "  \u001B[31m   \u001B[0m   File \"/opt/homebrew/Caskroom/miniforge/base/envs/py38/lib/python3.8/site-packages/pkg_resources/__init__.py\", line 2471, in resolve\r\n",
      "  \u001B[31m   \u001B[0m     module = __import__(self.module_name, fromlist=['__name__'], level=0)\r\n",
      "  \u001B[31m   \u001B[0m ModuleNotFoundError: No module named 'setuptools.command.build'\r\n",
      "  \u001B[31m   \u001B[0m \u001B[31m[end of output]\u001B[0m\r\n",
      "  \r\n",
      "  \u001B[1;35mnote\u001B[0m: This error originates from a subprocess, and is likely not a problem with pip.\r\n",
      "\u001B[1;31merror\u001B[0m: \u001B[1mmetadata-generation-failed\u001B[0m\r\n",
      "\r\n",
      "\u001B[31m×\u001B[0m Encountered error while generating package metadata.\r\n",
      "\u001B[31m╰─>\u001B[0m See above for output.\r\n",
      "\r\n",
      "\u001B[1;35mnote\u001B[0m: This is an issue with the package mentioned above, not pip.\r\n",
      "\u001B[1;36mhint\u001B[0m: See above for details.\r\n",
      "\u001B[?25h"
     ]
    }
   ],
   "source": [
    "!pip install sklearn"
   ],
   "metadata": {
    "collapsed": false,
    "pycharm": {
     "name": "#%%\n"
    }
   }
  },
  {
   "cell_type": "code",
   "execution_count": 2,
   "outputs": [
    {
     "name": "stdout",
     "output_type": "stream",
     "text": [
      "1.0\n",
      "[1.4 0.5 1. ]\n"
     ]
    }
   ],
   "source": [
    "from sklearn.linear_model import LinearRegression\n",
    "\n",
    "features = [[5, 3.4, 6], [1, 0.4, 10], [2, 0.1, 1]]\n",
    "target = [1.4, 0.5, 1]\n",
    "\n",
    "reg = LinearRegression().fit(features, target)\n",
    "\n",
    "print(reg.score(features, target))\n",
    "print(reg.predict(features))"
   ],
   "metadata": {
    "collapsed": false,
    "pycharm": {
     "name": "#%%\n"
    }
   }
  },
  {
   "cell_type": "code",
   "execution_count": 4,
   "outputs": [
    {
     "name": "stdout",
     "output_type": "stream",
     "text": [
      "[2 0 1]\n",
      "0.0\n"
     ]
    }
   ],
   "source": [
    "from sklearn.cluster import KMeans\n",
    "\n",
    "features = [[5, 3.4, 6], [1, 0.4, 10], [2, 0.1, 1]]\n",
    "# Cluster into 3 groups\n",
    "kmeans = KMeans(n_clusters=3).fit(features)\n",
    "\n",
    "# Prints which data point belongs to which cluster group\n",
    "print(kmeans.labels_)\n",
    "# Prints the metric of how clustering performed\n",
    "print(kmeans.inertia_)"
   ],
   "metadata": {
    "collapsed": false,
    "pycharm": {
     "name": "#%%\n"
    }
   }
  },
  {
   "cell_type": "code",
   "execution_count": null,
   "outputs": [],
   "source": [],
   "metadata": {
    "collapsed": false,
    "pycharm": {
     "name": "#%%\n"
    }
   }
  }
 ],
 "metadata": {
  "kernelspec": {
   "display_name": "Python 3",
   "language": "python",
   "name": "python3"
  },
  "language_info": {
   "codemirror_mode": {
    "name": "ipython",
    "version": 2
   },
   "file_extension": ".py",
   "mimetype": "text/x-python",
   "name": "python",
   "nbconvert_exporter": "python",
   "pygments_lexer": "ipython2",
   "version": "2.7.6"
  }
 },
 "nbformat": 4,
 "nbformat_minor": 0
}